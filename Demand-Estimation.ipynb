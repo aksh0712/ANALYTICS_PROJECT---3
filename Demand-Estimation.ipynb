{
 "cells": [
  {
   "cell_type": "markdown",
   "id": "d3ecfb7a",
   "metadata": {},
   "source": [
    "# Demand Estimation of Electricity Forecasting"
   ]
  },
  {
   "cell_type": "code",
   "execution_count": 174,
   "id": "4d142df2",
   "metadata": {},
   "outputs": [],
   "source": [
    "import numpy as np\n",
    "import pandas as pd\n",
    "import os\n",
    "import matplotlib.pyplot as plt\n",
    "%matplotlib inline"
   ]
  },
  {
   "cell_type": "code",
   "execution_count": 175,
   "id": "35fc69b4",
   "metadata": {},
   "outputs": [
    {
     "data": {
      "text/plain": [
       "'C:\\\\Users\\\\Akshay\\\\Desktop\\\\Demand_Estimation'"
      ]
     },
     "execution_count": 175,
     "metadata": {},
     "output_type": "execute_result"
    }
   ],
   "source": [
    "%pwd"
   ]
  },
  {
   "cell_type": "code",
   "execution_count": 176,
   "id": "3efc3496",
   "metadata": {},
   "outputs": [],
   "source": [
    "os.chdir('C:\\\\Users\\\\Akshay\\\\Desktop\\\\Demand_Estimation')"
   ]
  },
  {
   "cell_type": "code",
   "execution_count": 177,
   "id": "666e9938",
   "metadata": {},
   "outputs": [
    {
     "data": {
      "text/plain": [
       "'C:\\\\Users\\\\Akshay\\\\Desktop\\\\Demand_Estimation'"
      ]
     },
     "execution_count": 177,
     "metadata": {},
     "output_type": "execute_result"
    }
   ],
   "source": [
    "%pwd"
   ]
  },
  {
   "cell_type": "code",
   "execution_count": 178,
   "id": "30e33d75",
   "metadata": {},
   "outputs": [],
   "source": [
    "demand = pd.read_csv('Electricity Consumption.csv')"
   ]
  },
  {
   "cell_type": "code",
   "execution_count": 179,
   "id": "4533b711",
   "metadata": {},
   "outputs": [
    {
     "data": {
      "text/html": [
       "<div>\n",
       "<style scoped>\n",
       "    .dataframe tbody tr th:only-of-type {\n",
       "        vertical-align: middle;\n",
       "    }\n",
       "\n",
       "    .dataframe tbody tr th {\n",
       "        vertical-align: top;\n",
       "    }\n",
       "\n",
       "    .dataframe thead th {\n",
       "        text-align: right;\n",
       "    }\n",
       "</style>\n",
       "<table border=\"1\" class=\"dataframe\">\n",
       "  <thead>\n",
       "    <tr style=\"text-align: right;\">\n",
       "      <th></th>\n",
       "      <th>DATE</th>\n",
       "      <th>Electricty_Consumption_in_TW</th>\n",
       "    </tr>\n",
       "  </thead>\n",
       "  <tbody>\n",
       "    <tr>\n",
       "      <th>0</th>\n",
       "      <td>1/1/1973</td>\n",
       "      <td>35.9728</td>\n",
       "    </tr>\n",
       "    <tr>\n",
       "      <th>1</th>\n",
       "      <td>2/1/1973</td>\n",
       "      <td>36.1334</td>\n",
       "    </tr>\n",
       "    <tr>\n",
       "      <th>2</th>\n",
       "      <td>3/1/1973</td>\n",
       "      <td>35.0625</td>\n",
       "    </tr>\n",
       "    <tr>\n",
       "      <th>3</th>\n",
       "      <td>4/1/1973</td>\n",
       "      <td>33.8416</td>\n",
       "    </tr>\n",
       "    <tr>\n",
       "      <th>4</th>\n",
       "      <td>5/1/1973</td>\n",
       "      <td>33.5107</td>\n",
       "    </tr>\n",
       "  </tbody>\n",
       "</table>\n",
       "</div>"
      ],
      "text/plain": [
       "       DATE  Electricty_Consumption_in_TW\n",
       "0  1/1/1973                       35.9728\n",
       "1  2/1/1973                       36.1334\n",
       "2  3/1/1973                       35.0625\n",
       "3  4/1/1973                       33.8416\n",
       "4  5/1/1973                       33.5107"
      ]
     },
     "execution_count": 179,
     "metadata": {},
     "output_type": "execute_result"
    }
   ],
   "source": [
    "demand.head()"
   ]
  },
  {
   "cell_type": "code",
   "execution_count": 180,
   "id": "cc76af56",
   "metadata": {},
   "outputs": [
    {
     "name": "stdout",
     "output_type": "stream",
     "text": [
      "<class 'pandas.core.frame.DataFrame'>\n",
      "RangeIndex: 561 entries, 0 to 560\n",
      "Data columns (total 2 columns):\n",
      " #   Column                        Non-Null Count  Dtype  \n",
      "---  ------                        --------------  -----  \n",
      " 0   DATE                          561 non-null    object \n",
      " 1   Electricty_Consumption_in_TW  561 non-null    float64\n",
      "dtypes: float64(1), object(1)\n",
      "memory usage: 8.9+ KB\n"
     ]
    }
   ],
   "source": [
    "demand.info()"
   ]
  },
  {
   "cell_type": "markdown",
   "id": "2b8ed34c",
   "metadata": {},
   "source": [
    "### Data Preprocessing"
   ]
  },
  {
   "cell_type": "code",
   "execution_count": 181,
   "id": "b0a304eb",
   "metadata": {},
   "outputs": [],
   "source": [
    "demand.columns = ['Month_Year', 'Ele_Consume_in_TW']"
   ]
  },
  {
   "cell_type": "code",
   "execution_count": 182,
   "id": "31036054",
   "metadata": {},
   "outputs": [
    {
     "data": {
      "text/html": [
       "<div>\n",
       "<style scoped>\n",
       "    .dataframe tbody tr th:only-of-type {\n",
       "        vertical-align: middle;\n",
       "    }\n",
       "\n",
       "    .dataframe tbody tr th {\n",
       "        vertical-align: top;\n",
       "    }\n",
       "\n",
       "    .dataframe thead th {\n",
       "        text-align: right;\n",
       "    }\n",
       "</style>\n",
       "<table border=\"1\" class=\"dataframe\">\n",
       "  <thead>\n",
       "    <tr style=\"text-align: right;\">\n",
       "      <th></th>\n",
       "      <th>Month_Year</th>\n",
       "      <th>Ele_Consume_in_TW</th>\n",
       "    </tr>\n",
       "  </thead>\n",
       "  <tbody>\n",
       "    <tr>\n",
       "      <th>0</th>\n",
       "      <td>1/1/1973</td>\n",
       "      <td>35.9728</td>\n",
       "    </tr>\n",
       "    <tr>\n",
       "      <th>1</th>\n",
       "      <td>2/1/1973</td>\n",
       "      <td>36.1334</td>\n",
       "    </tr>\n",
       "    <tr>\n",
       "      <th>2</th>\n",
       "      <td>3/1/1973</td>\n",
       "      <td>35.0625</td>\n",
       "    </tr>\n",
       "    <tr>\n",
       "      <th>3</th>\n",
       "      <td>4/1/1973</td>\n",
       "      <td>33.8416</td>\n",
       "    </tr>\n",
       "    <tr>\n",
       "      <th>4</th>\n",
       "      <td>5/1/1973</td>\n",
       "      <td>33.5107</td>\n",
       "    </tr>\n",
       "  </tbody>\n",
       "</table>\n",
       "</div>"
      ],
      "text/plain": [
       "  Month_Year  Ele_Consume_in_TW\n",
       "0   1/1/1973            35.9728\n",
       "1   2/1/1973            36.1334\n",
       "2   3/1/1973            35.0625\n",
       "3   4/1/1973            33.8416\n",
       "4   5/1/1973            33.5107"
      ]
     },
     "execution_count": 182,
     "metadata": {},
     "output_type": "execute_result"
    }
   ],
   "source": [
    "demand.head()"
   ]
  },
  {
   "cell_type": "code",
   "execution_count": 183,
   "id": "a1ec546a",
   "metadata": {},
   "outputs": [],
   "source": [
    "demand['Year_Month'] = pd.to_datetime(demand.Month_Year, format='%m/%d/%Y')"
   ]
  },
  {
   "cell_type": "code",
   "execution_count": 184,
   "id": "b1e2f29e",
   "metadata": {},
   "outputs": [
    {
     "data": {
      "text/html": [
       "<div>\n",
       "<style scoped>\n",
       "    .dataframe tbody tr th:only-of-type {\n",
       "        vertical-align: middle;\n",
       "    }\n",
       "\n",
       "    .dataframe tbody tr th {\n",
       "        vertical-align: top;\n",
       "    }\n",
       "\n",
       "    .dataframe thead th {\n",
       "        text-align: right;\n",
       "    }\n",
       "</style>\n",
       "<table border=\"1\" class=\"dataframe\">\n",
       "  <thead>\n",
       "    <tr style=\"text-align: right;\">\n",
       "      <th></th>\n",
       "      <th>Month_Year</th>\n",
       "      <th>Ele_Consume_in_TW</th>\n",
       "      <th>Year_Month</th>\n",
       "    </tr>\n",
       "  </thead>\n",
       "  <tbody>\n",
       "    <tr>\n",
       "      <th>0</th>\n",
       "      <td>1/1/1973</td>\n",
       "      <td>35.9728</td>\n",
       "      <td>1973-01-01</td>\n",
       "    </tr>\n",
       "    <tr>\n",
       "      <th>1</th>\n",
       "      <td>2/1/1973</td>\n",
       "      <td>36.1334</td>\n",
       "      <td>1973-02-01</td>\n",
       "    </tr>\n",
       "    <tr>\n",
       "      <th>2</th>\n",
       "      <td>3/1/1973</td>\n",
       "      <td>35.0625</td>\n",
       "      <td>1973-03-01</td>\n",
       "    </tr>\n",
       "    <tr>\n",
       "      <th>3</th>\n",
       "      <td>4/1/1973</td>\n",
       "      <td>33.8416</td>\n",
       "      <td>1973-04-01</td>\n",
       "    </tr>\n",
       "    <tr>\n",
       "      <th>4</th>\n",
       "      <td>5/1/1973</td>\n",
       "      <td>33.5107</td>\n",
       "      <td>1973-05-01</td>\n",
       "    </tr>\n",
       "  </tbody>\n",
       "</table>\n",
       "</div>"
      ],
      "text/plain": [
       "  Month_Year  Ele_Consume_in_TW Year_Month\n",
       "0   1/1/1973            35.9728 1973-01-01\n",
       "1   2/1/1973            36.1334 1973-02-01\n",
       "2   3/1/1973            35.0625 1973-03-01\n",
       "3   4/1/1973            33.8416 1973-04-01\n",
       "4   5/1/1973            33.5107 1973-05-01"
      ]
     },
     "execution_count": 184,
     "metadata": {},
     "output_type": "execute_result"
    }
   ],
   "source": [
    "demand.head()"
   ]
  },
  {
   "cell_type": "code",
   "execution_count": 185,
   "id": "4c02f379",
   "metadata": {},
   "outputs": [],
   "source": [
    "demand.set_index(demand.Year_Month, inplace=True)"
   ]
  },
  {
   "cell_type": "code",
   "execution_count": 186,
   "id": "698e1a59",
   "metadata": {},
   "outputs": [
    {
     "data": {
      "text/html": [
       "<div>\n",
       "<style scoped>\n",
       "    .dataframe tbody tr th:only-of-type {\n",
       "        vertical-align: middle;\n",
       "    }\n",
       "\n",
       "    .dataframe tbody tr th {\n",
       "        vertical-align: top;\n",
       "    }\n",
       "\n",
       "    .dataframe thead th {\n",
       "        text-align: right;\n",
       "    }\n",
       "</style>\n",
       "<table border=\"1\" class=\"dataframe\">\n",
       "  <thead>\n",
       "    <tr style=\"text-align: right;\">\n",
       "      <th></th>\n",
       "      <th>Month_Year</th>\n",
       "      <th>Ele_Consume_in_TW</th>\n",
       "      <th>Year_Month</th>\n",
       "    </tr>\n",
       "    <tr>\n",
       "      <th>Year_Month</th>\n",
       "      <th></th>\n",
       "      <th></th>\n",
       "      <th></th>\n",
       "    </tr>\n",
       "  </thead>\n",
       "  <tbody>\n",
       "    <tr>\n",
       "      <th>1973-01-01</th>\n",
       "      <td>1/1/1973</td>\n",
       "      <td>35.9728</td>\n",
       "      <td>1973-01-01</td>\n",
       "    </tr>\n",
       "    <tr>\n",
       "      <th>1973-02-01</th>\n",
       "      <td>2/1/1973</td>\n",
       "      <td>36.1334</td>\n",
       "      <td>1973-02-01</td>\n",
       "    </tr>\n",
       "    <tr>\n",
       "      <th>1973-03-01</th>\n",
       "      <td>3/1/1973</td>\n",
       "      <td>35.0625</td>\n",
       "      <td>1973-03-01</td>\n",
       "    </tr>\n",
       "    <tr>\n",
       "      <th>1973-04-01</th>\n",
       "      <td>4/1/1973</td>\n",
       "      <td>33.8416</td>\n",
       "      <td>1973-04-01</td>\n",
       "    </tr>\n",
       "    <tr>\n",
       "      <th>1973-05-01</th>\n",
       "      <td>5/1/1973</td>\n",
       "      <td>33.5107</td>\n",
       "      <td>1973-05-01</td>\n",
       "    </tr>\n",
       "  </tbody>\n",
       "</table>\n",
       "</div>"
      ],
      "text/plain": [
       "           Month_Year  Ele_Consume_in_TW Year_Month\n",
       "Year_Month                                         \n",
       "1973-01-01   1/1/1973            35.9728 1973-01-01\n",
       "1973-02-01   2/1/1973            36.1334 1973-02-01\n",
       "1973-03-01   3/1/1973            35.0625 1973-03-01\n",
       "1973-04-01   4/1/1973            33.8416 1973-04-01\n",
       "1973-05-01   5/1/1973            33.5107 1973-05-01"
      ]
     },
     "execution_count": 186,
     "metadata": {},
     "output_type": "execute_result"
    }
   ],
   "source": [
    "demand.head()"
   ]
  },
  {
   "cell_type": "code",
   "execution_count": 187,
   "id": "61227107",
   "metadata": {},
   "outputs": [
    {
     "name": "stdout",
     "output_type": "stream",
     "text": [
      "<class 'pandas.core.frame.DataFrame'>\n",
      "DatetimeIndex: 561 entries, 1973-01-01 to 2019-09-01\n",
      "Data columns (total 3 columns):\n",
      " #   Column             Non-Null Count  Dtype         \n",
      "---  ------             --------------  -----         \n",
      " 0   Month_Year         561 non-null    object        \n",
      " 1   Ele_Consume_in_TW  561 non-null    float64       \n",
      " 2   Year_Month         561 non-null    datetime64[ns]\n",
      "dtypes: datetime64[ns](1), float64(1), object(1)\n",
      "memory usage: 17.5+ KB\n"
     ]
    }
   ],
   "source": [
    "demand.info()"
   ]
  },
  {
   "cell_type": "code",
   "execution_count": 188,
   "id": "eca9b059",
   "metadata": {},
   "outputs": [],
   "source": [
    "demand['Year'] = demand.Year_Month.dt.year\n",
    "demand['Month'] = demand.Year_Month.dt.month"
   ]
  },
  {
   "cell_type": "code",
   "execution_count": 189,
   "id": "50bbcabb",
   "metadata": {},
   "outputs": [
    {
     "data": {
      "text/html": [
       "<div>\n",
       "<style scoped>\n",
       "    .dataframe tbody tr th:only-of-type {\n",
       "        vertical-align: middle;\n",
       "    }\n",
       "\n",
       "    .dataframe tbody tr th {\n",
       "        vertical-align: top;\n",
       "    }\n",
       "\n",
       "    .dataframe thead th {\n",
       "        text-align: right;\n",
       "    }\n",
       "</style>\n",
       "<table border=\"1\" class=\"dataframe\">\n",
       "  <thead>\n",
       "    <tr style=\"text-align: right;\">\n",
       "      <th></th>\n",
       "      <th>Month_Year</th>\n",
       "      <th>Ele_Consume_in_TW</th>\n",
       "      <th>Year_Month</th>\n",
       "      <th>Year</th>\n",
       "      <th>Month</th>\n",
       "    </tr>\n",
       "    <tr>\n",
       "      <th>Year_Month</th>\n",
       "      <th></th>\n",
       "      <th></th>\n",
       "      <th></th>\n",
       "      <th></th>\n",
       "      <th></th>\n",
       "    </tr>\n",
       "  </thead>\n",
       "  <tbody>\n",
       "    <tr>\n",
       "      <th>1973-01-01</th>\n",
       "      <td>1/1/1973</td>\n",
       "      <td>35.9728</td>\n",
       "      <td>1973-01-01</td>\n",
       "      <td>1973</td>\n",
       "      <td>1</td>\n",
       "    </tr>\n",
       "    <tr>\n",
       "      <th>1973-02-01</th>\n",
       "      <td>2/1/1973</td>\n",
       "      <td>36.1334</td>\n",
       "      <td>1973-02-01</td>\n",
       "      <td>1973</td>\n",
       "      <td>2</td>\n",
       "    </tr>\n",
       "    <tr>\n",
       "      <th>1973-03-01</th>\n",
       "      <td>3/1/1973</td>\n",
       "      <td>35.0625</td>\n",
       "      <td>1973-03-01</td>\n",
       "      <td>1973</td>\n",
       "      <td>3</td>\n",
       "    </tr>\n",
       "    <tr>\n",
       "      <th>1973-04-01</th>\n",
       "      <td>4/1/1973</td>\n",
       "      <td>33.8416</td>\n",
       "      <td>1973-04-01</td>\n",
       "      <td>1973</td>\n",
       "      <td>4</td>\n",
       "    </tr>\n",
       "    <tr>\n",
       "      <th>1973-05-01</th>\n",
       "      <td>5/1/1973</td>\n",
       "      <td>33.5107</td>\n",
       "      <td>1973-05-01</td>\n",
       "      <td>1973</td>\n",
       "      <td>5</td>\n",
       "    </tr>\n",
       "  </tbody>\n",
       "</table>\n",
       "</div>"
      ],
      "text/plain": [
       "           Month_Year  Ele_Consume_in_TW Year_Month  Year  Month\n",
       "Year_Month                                                      \n",
       "1973-01-01   1/1/1973            35.9728 1973-01-01  1973      1\n",
       "1973-02-01   2/1/1973            36.1334 1973-02-01  1973      2\n",
       "1973-03-01   3/1/1973            35.0625 1973-03-01  1973      3\n",
       "1973-04-01   4/1/1973            33.8416 1973-04-01  1973      4\n",
       "1973-05-01   5/1/1973            33.5107 1973-05-01  1973      5"
      ]
     },
     "execution_count": 189,
     "metadata": {},
     "output_type": "execute_result"
    }
   ],
   "source": [
    "demand.head()"
   ]
  },
  {
   "cell_type": "code",
   "execution_count": 190,
   "id": "dcc371de",
   "metadata": {},
   "outputs": [],
   "source": [
    "elec = pd.Series(demand.Ele_Consume_in_TW)"
   ]
  },
  {
   "cell_type": "code",
   "execution_count": 191,
   "id": "ce0c2c67",
   "metadata": {},
   "outputs": [
    {
     "data": {
      "text/plain": [
       "<AxesSubplot:xlabel='Year_Month'>"
      ]
     },
     "execution_count": 191,
     "metadata": {},
     "output_type": "execute_result"
    },
    {
     "data": {
      "image/png": "[encoded data removed]",
      "text/plain": [
       "<Figure size 432x288 with 1 Axes>"
      ]
     },
     "metadata": {
      "needs_background": "light"
     },
     "output_type": "display_data"
    }
   ],
   "source": [
    "elec.plot()"
   ]
  },
  {
   "cell_type": "code",
   "execution_count": 192,
   "id": "ed5b5024",
   "metadata": {},
   "outputs": [
    {
     "data": {
      "text/plain": [
       "Year_Month\n",
       "1973-01-01    35.9728\n",
       "1973-02-01    36.1334\n",
       "1973-03-01    35.0625\n",
       "1973-04-01    33.8416\n",
       "1973-05-01    33.5107\n",
       "Name: Ele_Consume_in_TW, dtype: float64"
      ]
     },
     "execution_count": 192,
     "metadata": {},
     "output_type": "execute_result"
    }
   ],
   "source": [
    "elec.head()"
   ]
  },
  {
   "cell_type": "code",
   "execution_count": 193,
   "id": "40938d2d",
   "metadata": {},
   "outputs": [
    {
     "data": {
      "text/html": [
       "<div>\n",
       "<style scoped>\n",
       "    .dataframe tbody tr th:only-of-type {\n",
       "        vertical-align: middle;\n",
       "    }\n",
       "\n",
       "    .dataframe tbody tr th {\n",
       "        vertical-align: top;\n",
       "    }\n",
       "\n",
       "    .dataframe thead th {\n",
       "        text-align: right;\n",
       "    }\n",
       "</style>\n",
       "<table border=\"1\" class=\"dataframe\">\n",
       "  <thead>\n",
       "    <tr style=\"text-align: right;\">\n",
       "      <th>Month</th>\n",
       "      <th>1</th>\n",
       "      <th>2</th>\n",
       "      <th>3</th>\n",
       "      <th>4</th>\n",
       "      <th>5</th>\n",
       "      <th>6</th>\n",
       "      <th>7</th>\n",
       "      <th>8</th>\n",
       "      <th>9</th>\n",
       "      <th>10</th>\n",
       "      <th>11</th>\n",
       "      <th>12</th>\n",
       "    </tr>\n",
       "    <tr>\n",
       "      <th>Year</th>\n",
       "      <th></th>\n",
       "      <th></th>\n",
       "      <th></th>\n",
       "      <th></th>\n",
       "      <th></th>\n",
       "      <th></th>\n",
       "      <th></th>\n",
       "      <th></th>\n",
       "      <th></th>\n",
       "      <th></th>\n",
       "      <th></th>\n",
       "      <th></th>\n",
       "    </tr>\n",
       "  </thead>\n",
       "  <tbody>\n",
       "    <tr>\n",
       "      <th>1973</th>\n",
       "      <td>35.9728</td>\n",
       "      <td>36.1334</td>\n",
       "      <td>35.0625</td>\n",
       "      <td>33.8416</td>\n",
       "      <td>33.5107</td>\n",
       "      <td>36.4823</td>\n",
       "      <td>39.1412</td>\n",
       "      <td>41.4137</td>\n",
       "      <td>40.1639</td>\n",
       "      <td>37.1133</td>\n",
       "      <td>37.0248</td>\n",
       "      <td>38.4341</td>\n",
       "    </tr>\n",
       "    <tr>\n",
       "      <th>1974</th>\n",
       "      <td>40.7455</td>\n",
       "      <td>39.8340</td>\n",
       "      <td>37.9408</td>\n",
       "      <td>36.3004</td>\n",
       "      <td>36.5293</td>\n",
       "      <td>40.8899</td>\n",
       "      <td>44.3563</td>\n",
       "      <td>45.9240</td>\n",
       "      <td>44.4555</td>\n",
       "      <td>40.6417</td>\n",
       "      <td>39.4901</td>\n",
       "      <td>38.9068</td>\n",
       "    </tr>\n",
       "    <tr>\n",
       "      <th>1975</th>\n",
       "      <td>40.0956</td>\n",
       "      <td>39.6944</td>\n",
       "      <td>38.3040</td>\n",
       "      <td>36.8939</td>\n",
       "      <td>37.5668</td>\n",
       "      <td>40.3832</td>\n",
       "      <td>44.9671</td>\n",
       "      <td>46.1853</td>\n",
       "      <td>43.3001</td>\n",
       "      <td>40.3836</td>\n",
       "      <td>39.8092</td>\n",
       "      <td>42.0597</td>\n",
       "    </tr>\n",
       "    <tr>\n",
       "      <th>1976</th>\n",
       "      <td>43.4099</td>\n",
       "      <td>42.5826</td>\n",
       "      <td>40.9244</td>\n",
       "      <td>39.3533</td>\n",
       "      <td>39.0766</td>\n",
       "      <td>42.4851</td>\n",
       "      <td>46.3693</td>\n",
       "      <td>48.1945</td>\n",
       "      <td>45.1688</td>\n",
       "      <td>41.1880</td>\n",
       "      <td>40.8431</td>\n",
       "      <td>44.1468</td>\n",
       "    </tr>\n",
       "    <tr>\n",
       "      <th>1977</th>\n",
       "      <td>47.6892</td>\n",
       "      <td>44.8505</td>\n",
       "      <td>42.8557</td>\n",
       "      <td>41.0177</td>\n",
       "      <td>40.7201</td>\n",
       "      <td>45.0610</td>\n",
       "      <td>48.9685</td>\n",
       "      <td>50.1898</td>\n",
       "      <td>47.5982</td>\n",
       "      <td>44.0684</td>\n",
       "      <td>45.4267</td>\n",
       "      <td>49.3447</td>\n",
       "    </tr>\n",
       "    <tr>\n",
       "      <th>1978</th>\n",
       "      <td>52.9153</td>\n",
       "      <td>49.9488</td>\n",
       "      <td>46.1749</td>\n",
       "      <td>43.6652</td>\n",
       "      <td>44.5402</td>\n",
       "      <td>48.9480</td>\n",
       "      <td>53.8292</td>\n",
       "      <td>54.1182</td>\n",
       "      <td>50.9980</td>\n",
       "      <td>46.3711</td>\n",
       "      <td>45.3267</td>\n",
       "      <td>49.0027</td>\n",
       "    </tr>\n",
       "    <tr>\n",
       "      <th>1979</th>\n",
       "      <td>53.3617</td>\n",
       "      <td>51.6279</td>\n",
       "      <td>47.8264</td>\n",
       "      <td>43.7935</td>\n",
       "      <td>44.8591</td>\n",
       "      <td>50.3292</td>\n",
       "      <td>54.3579</td>\n",
       "      <td>55.9197</td>\n",
       "      <td>53.5776</td>\n",
       "      <td>48.7261</td>\n",
       "      <td>48.2585</td>\n",
       "      <td>51.3008</td>\n",
       "    </tr>\n",
       "    <tr>\n",
       "      <th>1980</th>\n",
       "      <td>56.5838</td>\n",
       "      <td>55.6802</td>\n",
       "      <td>50.4428</td>\n",
       "      <td>46.8693</td>\n",
       "      <td>46.0886</td>\n",
       "      <td>49.7595</td>\n",
       "      <td>53.8273</td>\n",
       "      <td>56.2272</td>\n",
       "      <td>52.5737</td>\n",
       "      <td>48.8947</td>\n",
       "      <td>48.4081</td>\n",
       "      <td>50.6659</td>\n",
       "    </tr>\n",
       "    <tr>\n",
       "      <th>1981</th>\n",
       "      <td>53.5867</td>\n",
       "      <td>53.5461</td>\n",
       "      <td>51.0708</td>\n",
       "      <td>46.9172</td>\n",
       "      <td>45.5795</td>\n",
       "      <td>50.0235</td>\n",
       "      <td>57.1384</td>\n",
       "      <td>59.5376</td>\n",
       "      <td>56.1935</td>\n",
       "      <td>50.3249</td>\n",
       "      <td>49.2234</td>\n",
       "      <td>52.8176</td>\n",
       "    </tr>\n",
       "    <tr>\n",
       "      <th>1982</th>\n",
       "      <td>57.4002</td>\n",
       "      <td>54.6248</td>\n",
       "      <td>51.1896</td>\n",
       "      <td>48.4958</td>\n",
       "      <td>47.9140</td>\n",
       "      <td>54.5292</td>\n",
       "      <td>59.5975</td>\n",
       "      <td>59.6727</td>\n",
       "      <td>54.9644</td>\n",
       "      <td>50.4093</td>\n",
       "      <td>49.7304</td>\n",
       "      <td>53.4477</td>\n",
       "    </tr>\n",
       "    <tr>\n",
       "      <th>1983</th>\n",
       "      <td>57.8035</td>\n",
       "      <td>54.3171</td>\n",
       "      <td>51.2296</td>\n",
       "      <td>48.5554</td>\n",
       "      <td>47.3548</td>\n",
       "      <td>51.8479</td>\n",
       "      <td>56.4073</td>\n",
       "      <td>57.0522</td>\n",
       "      <td>53.2825</td>\n",
       "      <td>48.6462</td>\n",
       "      <td>48.5762</td>\n",
       "      <td>50.9131</td>\n",
       "    </tr>\n",
       "    <tr>\n",
       "      <th>1984</th>\n",
       "      <td>53.8233</td>\n",
       "      <td>52.0005</td>\n",
       "      <td>49.8258</td>\n",
       "      <td>48.1762</td>\n",
       "      <td>46.8221</td>\n",
       "      <td>52.1043</td>\n",
       "      <td>59.2376</td>\n",
       "      <td>63.0354</td>\n",
       "      <td>58.8092</td>\n",
       "      <td>52.0758</td>\n",
       "      <td>51.5264</td>\n",
       "      <td>56.4794</td>\n",
       "    </tr>\n",
       "    <tr>\n",
       "      <th>1985</th>\n",
       "      <td>60.9006</td>\n",
       "      <td>57.1310</td>\n",
       "      <td>55.2857</td>\n",
       "      <td>51.4436</td>\n",
       "      <td>52.0810</td>\n",
       "      <td>57.5410</td>\n",
       "      <td>61.2397</td>\n",
       "      <td>63.2502</td>\n",
       "      <td>58.6939</td>\n",
       "      <td>53.6227</td>\n",
       "      <td>53.7972</td>\n",
       "      <td>56.6369</td>\n",
       "    </tr>\n",
       "    <tr>\n",
       "      <th>1986</th>\n",
       "      <td>63.4267</td>\n",
       "      <td>61.3016</td>\n",
       "      <td>55.8488</td>\n",
       "      <td>53.3782</td>\n",
       "      <td>54.1358</td>\n",
       "      <td>58.5966</td>\n",
       "      <td>63.7333</td>\n",
       "      <td>64.5506</td>\n",
       "      <td>61.9159</td>\n",
       "      <td>55.7588</td>\n",
       "      <td>55.4629</td>\n",
       "      <td>61.4175</td>\n",
       "    </tr>\n",
       "    <tr>\n",
       "      <th>1987</th>\n",
       "      <td>63.9303</td>\n",
       "      <td>60.3646</td>\n",
       "      <td>56.0702</td>\n",
       "      <td>53.9762</td>\n",
       "      <td>54.8074</td>\n",
       "      <td>60.9330</td>\n",
       "      <td>67.8937</td>\n",
       "      <td>66.6955</td>\n",
       "      <td>62.8912</td>\n",
       "      <td>57.8284</td>\n",
       "      <td>57.0461</td>\n",
       "      <td>62.1443</td>\n",
       "    </tr>\n",
       "    <tr>\n",
       "      <th>1988</th>\n",
       "      <td>65.1403</td>\n",
       "      <td>62.3975</td>\n",
       "      <td>59.3460</td>\n",
       "      <td>56.5817</td>\n",
       "      <td>58.2626</td>\n",
       "      <td>65.1768</td>\n",
       "      <td>71.0094</td>\n",
       "      <td>72.3010</td>\n",
       "      <td>65.8237</td>\n",
       "      <td>59.7144</td>\n",
       "      <td>59.6736</td>\n",
       "      <td>64.4422</td>\n",
       "    </tr>\n",
       "    <tr>\n",
       "      <th>1989</th>\n",
       "      <td>70.3996</td>\n",
       "      <td>67.9200</td>\n",
       "      <td>63.8744</td>\n",
       "      <td>59.9583</td>\n",
       "      <td>60.1815</td>\n",
       "      <td>68.2487</td>\n",
       "      <td>75.1146</td>\n",
       "      <td>78.0872</td>\n",
       "      <td>69.3406</td>\n",
       "      <td>62.8362</td>\n",
       "      <td>62.1364</td>\n",
       "      <td>67.7310</td>\n",
       "    </tr>\n",
       "    <tr>\n",
       "      <th>1990</th>\n",
       "      <td>70.0406</td>\n",
       "      <td>68.7045</td>\n",
       "      <td>66.3675</td>\n",
       "      <td>61.4050</td>\n",
       "      <td>62.7297</td>\n",
       "      <td>69.9173</td>\n",
       "      <td>76.4218</td>\n",
       "      <td>77.6320</td>\n",
       "      <td>71.0673</td>\n",
       "      <td>65.3455</td>\n",
       "      <td>65.6080</td>\n",
       "      <td>75.0806</td>\n",
       "    </tr>\n",
       "    <tr>\n",
       "      <th>1991</th>\n",
       "      <td>75.3432</td>\n",
       "      <td>70.4279</td>\n",
       "      <td>67.2785</td>\n",
       "      <td>63.5089</td>\n",
       "      <td>65.0637</td>\n",
       "      <td>73.1867</td>\n",
       "      <td>79.5446</td>\n",
       "      <td>80.1356</td>\n",
       "      <td>75.5456</td>\n",
       "      <td>67.5532</td>\n",
       "      <td>65.9821</td>\n",
       "      <td>71.2865</td>\n",
       "    </tr>\n",
       "    <tr>\n",
       "      <th>1992</th>\n",
       "      <td>76.4893</td>\n",
       "      <td>70.8296</td>\n",
       "      <td>67.7166</td>\n",
       "      <td>64.4234</td>\n",
       "      <td>68.9159</td>\n",
       "      <td>77.1266</td>\n",
       "      <td>82.8681</td>\n",
       "      <td>82.0134</td>\n",
       "      <td>75.6726</td>\n",
       "      <td>68.4600</td>\n",
       "      <td>68.5905</td>\n",
       "      <td>72.5001</td>\n",
       "    </tr>\n",
       "    <tr>\n",
       "      <th>1993</th>\n",
       "      <td>76.3454</td>\n",
       "      <td>72.5838</td>\n",
       "      <td>68.2756</td>\n",
       "      <td>65.6965</td>\n",
       "      <td>66.5711</td>\n",
       "      <td>73.0804</td>\n",
       "      <td>80.3847</td>\n",
       "      <td>79.5582</td>\n",
       "      <td>74.6987</td>\n",
       "      <td>68.8537</td>\n",
       "      <td>69.6758</td>\n",
       "      <td>76.0833</td>\n",
       "    </tr>\n",
       "    <tr>\n",
       "      <th>1994</th>\n",
       "      <td>77.6749</td>\n",
       "      <td>75.1092</td>\n",
       "      <td>71.1866</td>\n",
       "      <td>66.8361</td>\n",
       "      <td>68.0393</td>\n",
       "      <td>76.7436</td>\n",
       "      <td>85.8577</td>\n",
       "      <td>85.9538</td>\n",
       "      <td>77.5044</td>\n",
       "      <td>69.2900</td>\n",
       "      <td>70.3729</td>\n",
       "      <td>76.2577</td>\n",
       "    </tr>\n",
       "    <tr>\n",
       "      <th>1995</th>\n",
       "      <td>82.0302</td>\n",
       "      <td>76.6372</td>\n",
       "      <td>72.0260</td>\n",
       "      <td>68.0178</td>\n",
       "      <td>69.5021</td>\n",
       "      <td>80.7147</td>\n",
       "      <td>87.1047</td>\n",
       "      <td>85.5512</td>\n",
       "      <td>78.5878</td>\n",
       "      <td>71.5596</td>\n",
       "      <td>72.1969</td>\n",
       "      <td>77.3523</td>\n",
       "    </tr>\n",
       "    <tr>\n",
       "      <th>1996</th>\n",
       "      <td>81.6179</td>\n",
       "      <td>77.5110</td>\n",
       "      <td>73.7351</td>\n",
       "      <td>69.8220</td>\n",
       "      <td>73.0125</td>\n",
       "      <td>81.5073</td>\n",
       "      <td>90.4389</td>\n",
       "      <td>94.6517</td>\n",
       "      <td>82.2441</td>\n",
       "      <td>74.7897</td>\n",
       "      <td>75.0062</td>\n",
       "      <td>81.2612</td>\n",
       "    </tr>\n",
       "    <tr>\n",
       "      <th>1997</th>\n",
       "      <td>86.6791</td>\n",
       "      <td>82.4101</td>\n",
       "      <td>78.4170</td>\n",
       "      <td>72.8635</td>\n",
       "      <td>76.8456</td>\n",
       "      <td>85.1667</td>\n",
       "      <td>90.3823</td>\n",
       "      <td>91.0586</td>\n",
       "      <td>82.5919</td>\n",
       "      <td>75.1195</td>\n",
       "      <td>76.3487</td>\n",
       "      <td>81.4314</td>\n",
       "    </tr>\n",
       "    <tr>\n",
       "      <th>1998</th>\n",
       "      <td>86.6427</td>\n",
       "      <td>80.1913</td>\n",
       "      <td>75.7104</td>\n",
       "      <td>72.2515</td>\n",
       "      <td>73.1001</td>\n",
       "      <td>82.5125</td>\n",
       "      <td>92.7738</td>\n",
       "      <td>92.2841</td>\n",
       "      <td>85.6932</td>\n",
       "      <td>78.4057</td>\n",
       "      <td>77.5792</td>\n",
       "      <td>83.3847</td>\n",
       "    </tr>\n",
       "    <tr>\n",
       "      <th>1999</th>\n",
       "      <td>84.7572</td>\n",
       "      <td>80.0052</td>\n",
       "      <td>79.4386</td>\n",
       "      <td>73.9566</td>\n",
       "      <td>79.3736</td>\n",
       "      <td>90.2293</td>\n",
       "      <td>98.4901</td>\n",
       "      <td>98.2941</td>\n",
       "      <td>91.7894</td>\n",
       "      <td>81.8528</td>\n",
       "      <td>79.0292</td>\n",
       "      <td>85.3087</td>\n",
       "    </tr>\n",
       "    <tr>\n",
       "      <th>2000</th>\n",
       "      <td>90.5209</td>\n",
       "      <td>83.2535</td>\n",
       "      <td>82.9765</td>\n",
       "      <td>77.4012</td>\n",
       "      <td>80.6012</td>\n",
       "      <td>91.9652</td>\n",
       "      <td>103.2199</td>\n",
       "      <td>101.9993</td>\n",
       "      <td>91.6262</td>\n",
       "      <td>81.9097</td>\n",
       "      <td>80.7085</td>\n",
       "      <td>87.9622</td>\n",
       "    </tr>\n",
       "    <tr>\n",
       "      <th>2001</th>\n",
       "      <td>92.2252</td>\n",
       "      <td>86.0219</td>\n",
       "      <td>82.9416</td>\n",
       "      <td>79.1183</td>\n",
       "      <td>85.9385</td>\n",
       "      <td>94.9666</td>\n",
       "      <td>100.9385</td>\n",
       "      <td>104.3357</td>\n",
       "      <td>94.8055</td>\n",
       "      <td>84.4761</td>\n",
       "      <td>84.6713</td>\n",
       "      <td>93.7830</td>\n",
       "    </tr>\n",
       "    <tr>\n",
       "      <th>2002</th>\n",
       "      <td>97.4839</td>\n",
       "      <td>88.4600</td>\n",
       "      <td>85.5145</td>\n",
       "      <td>80.6255</td>\n",
       "      <td>84.2219</td>\n",
       "      <td>94.7114</td>\n",
       "      <td>101.1429</td>\n",
       "      <td>104.9186</td>\n",
       "      <td>92.4048</td>\n",
       "      <td>83.8666</td>\n",
       "      <td>81.5255</td>\n",
       "      <td>87.0653</td>\n",
       "    </tr>\n",
       "    <tr>\n",
       "      <th>2003</th>\n",
       "      <td>93.4462</td>\n",
       "      <td>87.1882</td>\n",
       "      <td>85.9872</td>\n",
       "      <td>83.2200</td>\n",
       "      <td>86.4023</td>\n",
       "      <td>97.2842</td>\n",
       "      <td>107.8586</td>\n",
       "      <td>107.2340</td>\n",
       "      <td>98.2105</td>\n",
       "      <td>88.3740</td>\n",
       "      <td>85.3696</td>\n",
       "      <td>92.7688</td>\n",
       "    </tr>\n",
       "    <tr>\n",
       "      <th>2004</th>\n",
       "      <td>99.2146</td>\n",
       "      <td>93.8080</td>\n",
       "      <td>87.9245</td>\n",
       "      <td>83.2149</td>\n",
       "      <td>87.3502</td>\n",
       "      <td>95.5287</td>\n",
       "      <td>108.0230</td>\n",
       "      <td>110.5490</td>\n",
       "      <td>97.8965</td>\n",
       "      <td>88.2913</td>\n",
       "      <td>86.5869</td>\n",
       "      <td>95.8509</td>\n",
       "    </tr>\n",
       "    <tr>\n",
       "      <th>2005</th>\n",
       "      <td>101.4854</td>\n",
       "      <td>95.4539</td>\n",
       "      <td>89.5912</td>\n",
       "      <td>85.2382</td>\n",
       "      <td>91.8307</td>\n",
       "      <td>101.3472</td>\n",
       "      <td>108.6568</td>\n",
       "      <td>106.9236</td>\n",
       "      <td>100.0361</td>\n",
       "      <td>90.3099</td>\n",
       "      <td>88.0298</td>\n",
       "      <td>98.2432</td>\n",
       "    </tr>\n",
       "    <tr>\n",
       "      <th>2006</th>\n",
       "      <td>100.5180</td>\n",
       "      <td>93.4341</td>\n",
       "      <td>92.0098</td>\n",
       "      <td>85.0923</td>\n",
       "      <td>89.2707</td>\n",
       "      <td>105.3702</td>\n",
       "      <td>115.7128</td>\n",
       "      <td>117.2059</td>\n",
       "      <td>106.2274</td>\n",
       "      <td>93.8650</td>\n",
       "      <td>90.1143</td>\n",
       "      <td>101.0209</td>\n",
       "    </tr>\n",
       "    <tr>\n",
       "      <th>2007</th>\n",
       "      <td>98.3652</td>\n",
       "      <td>94.9756</td>\n",
       "      <td>93.0500</td>\n",
       "      <td>87.1221</td>\n",
       "      <td>93.3602</td>\n",
       "      <td>106.4587</td>\n",
       "      <td>118.2580</td>\n",
       "      <td>119.0322</td>\n",
       "      <td>101.6588</td>\n",
       "      <td>92.5908</td>\n",
       "      <td>91.2439</td>\n",
       "      <td>98.4618</td>\n",
       "    </tr>\n",
       "    <tr>\n",
       "      <th>2008</th>\n",
       "      <td>103.7172</td>\n",
       "      <td>101.8218</td>\n",
       "      <td>94.0200</td>\n",
       "      <td>89.3184</td>\n",
       "      <td>95.1251</td>\n",
       "      <td>106.7553</td>\n",
       "      <td>114.3852</td>\n",
       "      <td>121.0940</td>\n",
       "      <td>107.7787</td>\n",
       "      <td>96.8831</td>\n",
       "      <td>93.3234</td>\n",
       "      <td>100.8597</td>\n",
       "    </tr>\n",
       "    <tr>\n",
       "      <th>2009</th>\n",
       "      <td>106.1460</td>\n",
       "      <td>100.4437</td>\n",
       "      <td>95.0260</td>\n",
       "      <td>90.1760</td>\n",
       "      <td>93.8625</td>\n",
       "      <td>109.5851</td>\n",
       "      <td>117.3505</td>\n",
       "      <td>113.8823</td>\n",
       "      <td>103.3491</td>\n",
       "      <td>93.2335</td>\n",
       "      <td>91.8977</td>\n",
       "      <td>101.8014</td>\n",
       "    </tr>\n",
       "    <tr>\n",
       "      <th>2010</th>\n",
       "      <td>105.7413</td>\n",
       "      <td>96.4428</td>\n",
       "      <td>92.2986</td>\n",
       "      <td>86.8242</td>\n",
       "      <td>90.6389</td>\n",
       "      <td>103.0377</td>\n",
       "      <td>110.6045</td>\n",
       "      <td>112.5792</td>\n",
       "      <td>100.4701</td>\n",
       "      <td>90.9259</td>\n",
       "      <td>88.1769</td>\n",
       "      <td>102.5951</td>\n",
       "    </tr>\n",
       "    <tr>\n",
       "      <th>2011</th>\n",
       "      <td>107.8967</td>\n",
       "      <td>101.9572</td>\n",
       "      <td>93.2285</td>\n",
       "      <td>86.0874</td>\n",
       "      <td>93.7706</td>\n",
       "      <td>110.3572</td>\n",
       "      <td>120.1457</td>\n",
       "      <td>120.2087</td>\n",
       "      <td>106.1109</td>\n",
       "      <td>91.6614</td>\n",
       "      <td>90.6340</td>\n",
       "      <td>105.7792</td>\n",
       "    </tr>\n",
       "    <tr>\n",
       "      <th>2012</th>\n",
       "      <td>108.9151</td>\n",
       "      <td>100.0117</td>\n",
       "      <td>94.3484</td>\n",
       "      <td>89.0821</td>\n",
       "      <td>92.7937</td>\n",
       "      <td>108.5421</td>\n",
       "      <td>121.6974</td>\n",
       "      <td>120.2822</td>\n",
       "      <td>104.6692</td>\n",
       "      <td>91.8217</td>\n",
       "      <td>90.7683</td>\n",
       "      <td>99.3654</td>\n",
       "    </tr>\n",
       "    <tr>\n",
       "      <th>2013</th>\n",
       "      <td>101.6890</td>\n",
       "      <td>95.5366</td>\n",
       "      <td>91.0434</td>\n",
       "      <td>87.5189</td>\n",
       "      <td>96.5166</td>\n",
       "      <td>107.0627</td>\n",
       "      <td>120.8149</td>\n",
       "      <td>117.2932</td>\n",
       "      <td>102.4185</td>\n",
       "      <td>91.8143</td>\n",
       "      <td>90.4217</td>\n",
       "      <td>97.8702</td>\n",
       "    </tr>\n",
       "    <tr>\n",
       "      <th>2014</th>\n",
       "      <td>104.3752</td>\n",
       "      <td>97.7907</td>\n",
       "      <td>95.5280</td>\n",
       "      <td>89.2783</td>\n",
       "      <td>93.2729</td>\n",
       "      <td>105.7336</td>\n",
       "      <td>116.4651</td>\n",
       "      <td>114.3700</td>\n",
       "      <td>104.3899</td>\n",
       "      <td>93.5507</td>\n",
       "      <td>93.0872</td>\n",
       "      <td>104.1544</td>\n",
       "    </tr>\n",
       "    <tr>\n",
       "      <th>2015</th>\n",
       "      <td>111.8708</td>\n",
       "      <td>103.4990</td>\n",
       "      <td>97.4134</td>\n",
       "      <td>88.7323</td>\n",
       "      <td>94.1360</td>\n",
       "      <td>106.5504</td>\n",
       "      <td>114.2235</td>\n",
       "      <td>113.9230</td>\n",
       "      <td>104.9454</td>\n",
       "      <td>93.6892</td>\n",
       "      <td>94.1108</td>\n",
       "      <td>101.1895</td>\n",
       "    </tr>\n",
       "    <tr>\n",
       "      <th>2016</th>\n",
       "      <td>108.1515</td>\n",
       "      <td>104.9900</td>\n",
       "      <td>97.5969</td>\n",
       "      <td>88.5477</td>\n",
       "      <td>93.5168</td>\n",
       "      <td>108.1813</td>\n",
       "      <td>118.3568</td>\n",
       "      <td>117.1375</td>\n",
       "      <td>107.3046</td>\n",
       "      <td>92.9818</td>\n",
       "      <td>89.4954</td>\n",
       "      <td>96.3086</td>\n",
       "    </tr>\n",
       "    <tr>\n",
       "      <th>2017</th>\n",
       "      <td>105.1879</td>\n",
       "      <td>98.0069</td>\n",
       "      <td>90.8029</td>\n",
       "      <td>87.4594</td>\n",
       "      <td>92.2811</td>\n",
       "      <td>109.6104</td>\n",
       "      <td>121.7478</td>\n",
       "      <td>123.2163</td>\n",
       "      <td>108.4514</td>\n",
       "      <td>93.4264</td>\n",
       "      <td>89.9026</td>\n",
       "      <td>101.8836</td>\n",
       "    </tr>\n",
       "    <tr>\n",
       "      <th>2018</th>\n",
       "      <td>102.9398</td>\n",
       "      <td>92.0095</td>\n",
       "      <td>93.3526</td>\n",
       "      <td>86.8386</td>\n",
       "      <td>93.2361</td>\n",
       "      <td>107.1009</td>\n",
       "      <td>119.2874</td>\n",
       "      <td>115.7108</td>\n",
       "      <td>103.4070</td>\n",
       "      <td>94.6492</td>\n",
       "      <td>91.9079</td>\n",
       "      <td>101.9883</td>\n",
       "    </tr>\n",
       "    <tr>\n",
       "      <th>2019</th>\n",
       "      <td>111.8520</td>\n",
       "      <td>97.3261</td>\n",
       "      <td>93.8406</td>\n",
       "      <td>89.1873</td>\n",
       "      <td>97.5860</td>\n",
       "      <td>110.8580</td>\n",
       "      <td>122.1014</td>\n",
       "      <td>121.7765</td>\n",
       "      <td>109.7190</td>\n",
       "      <td>NaN</td>\n",
       "      <td>NaN</td>\n",
       "      <td>NaN</td>\n",
       "    </tr>\n",
       "  </tbody>\n",
       "</table>\n",
       "</div>"
      ],
      "text/plain": [
       "Month        1         2        3        4        5         6         7   \\\n",
       "Year                                                                       \n",
       "1973    35.9728   36.1334  35.0625  33.8416  33.5107   36.4823   39.1412   \n",
       "1974    40.7455   39.8340  37.9408  36.3004  36.5293   40.8899   44.3563   \n",
       "1975    40.0956   39.6944  38.3040  36.8939  37.5668   40.3832   44.9671   \n",
       "1976    43.4099   42.5826  40.9244  39.3533  39.0766   42.4851   46.3693   \n",
       "1977    47.6892   44.8505  42.8557  41.0177  40.7201   45.0610   48.9685   \n",
       "1978    52.9153   49.9488  46.1749  43.6652  44.5402   48.9480   53.8292   \n",
       "1979    53.3617   51.6279  47.8264  43.7935  44.8591   50.3292   54.3579   \n",
       "1980    56.5838   55.6802  50.4428  46.8693  46.0886   49.7595   53.8273   \n",
       "1981    53.5867   53.5461  51.0708  46.9172  45.5795   50.0235   57.1384   \n",
       "1982    57.4002   54.6248  51.1896  48.4958  47.9140   54.5292   59.5975   \n",
       "1983    57.8035   54.3171  51.2296  48.5554  47.3548   51.8479   56.4073   \n",
       "1984    53.8233   52.0005  49.8258  48.1762  46.8221   52.1043   59.2376   \n",
       "1985    60.9006   57.1310  55.2857  51.4436  52.0810   57.5410   61.2397   \n",
       "1986    63.4267   61.3016  55.8488  53.3782  54.1358   58.5966   63.7333   \n",
       "1987    63.9303   60.3646  56.0702  53.9762  54.8074   60.9330   67.8937   \n",
       "1988    65.1403   62.3975  59.3460  56.5817  58.2626   65.1768   71.0094   \n",
       "1989    70.3996   67.9200  63.8744  59.9583  60.1815   68.2487   75.1146   \n",
       "1990    70.0406   68.7045  66.3675  61.4050  62.7297   69.9173   76.4218   \n",
       "1991    75.3432   70.4279  67.2785  63.5089  65.0637   73.1867   79.5446   \n",
       "1992    76.4893   70.8296  67.7166  64.4234  68.9159   77.1266   82.8681   \n",
       "1993    76.3454   72.5838  68.2756  65.6965  66.5711   73.0804   80.3847   \n",
       "1994    77.6749   75.1092  71.1866  66.8361  68.0393   76.7436   85.8577   \n",
       "1995    82.0302   76.6372  72.0260  68.0178  69.5021   80.7147   87.1047   \n",
       "1996    81.6179   77.5110  73.7351  69.8220  73.0125   81.5073   90.4389   \n",
       "1997    86.6791   82.4101  78.4170  72.8635  76.8456   85.1667   90.3823   \n",
       "1998    86.6427   80.1913  75.7104  72.2515  73.1001   82.5125   92.7738   \n",
       "1999    84.7572   80.0052  79.4386  73.9566  79.3736   90.2293   98.4901   \n",
       "2000    90.5209   83.2535  82.9765  77.4012  80.6012   91.9652  103.2199   \n",
       "2001    92.2252   86.0219  82.9416  79.1183  85.9385   94.9666  100.9385   \n",
       "2002    97.4839   88.4600  85.5145  80.6255  84.2219   94.7114  101.1429   \n",
       "2003    93.4462   87.1882  85.9872  83.2200  86.4023   97.2842  107.8586   \n",
       "2004    99.2146   93.8080  87.9245  83.2149  87.3502   95.5287  108.0230   \n",
       "2005   101.4854   95.4539  89.5912  85.2382  91.8307  101.3472  108.6568   \n",
       "2006   100.5180   93.4341  92.0098  85.0923  89.2707  105.3702  115.7128   \n",
       "2007    98.3652   94.9756  93.0500  87.1221  93.3602  106.4587  118.2580   \n",
       "2008   103.7172  101.8218  94.0200  89.3184  95.1251  106.7553  114.3852   \n",
       "2009   106.1460  100.4437  95.0260  90.1760  93.8625  109.5851  117.3505   \n",
       "2010   105.7413   96.4428  92.2986  86.8242  90.6389  103.0377  110.6045   \n",
       "2011   107.8967  101.9572  93.2285  86.0874  93.7706  110.3572  120.1457   \n",
       "2012   108.9151  100.0117  94.3484  89.0821  92.7937  108.5421  121.6974   \n",
       "2013   101.6890   95.5366  91.0434  87.5189  96.5166  107.0627  120.8149   \n",
       "2014   104.3752   97.7907  95.5280  89.2783  93.2729  105.7336  116.4651   \n",
       "2015   111.8708  103.4990  97.4134  88.7323  94.1360  106.5504  114.2235   \n",
       "2016   108.1515  104.9900  97.5969  88.5477  93.5168  108.1813  118.3568   \n",
       "2017   105.1879   98.0069  90.8029  87.4594  92.2811  109.6104  121.7478   \n",
       "2018   102.9398   92.0095  93.3526  86.8386  93.2361  107.1009  119.2874   \n",
       "2019   111.8520   97.3261  93.8406  89.1873  97.5860  110.8580  122.1014   \n",
       "\n",
       "Month        8         9        10       11        12  \n",
       "Year                                                   \n",
       "1973    41.4137   40.1639  37.1133  37.0248   38.4341  \n",
       "1974    45.9240   44.4555  40.6417  39.4901   38.9068  \n",
       "1975    46.1853   43.3001  40.3836  39.8092   42.0597  \n",
       "1976    48.1945   45.1688  41.1880  40.8431   44.1468  \n",
       "1977    50.1898   47.5982  44.0684  45.4267   49.3447  \n",
       "1978    54.1182   50.9980  46.3711  45.3267   49.0027  \n",
       "1979    55.9197   53.5776  48.7261  48.2585   51.3008  \n",
       "1980    56.2272   52.5737  48.8947  48.4081   50.6659  \n",
       "1981    59.5376   56.1935  50.3249  49.2234   52.8176  \n",
       "1982    59.6727   54.9644  50.4093  49.7304   53.4477  \n",
       "1983    57.0522   53.2825  48.6462  48.5762   50.9131  \n",
       "1984    63.0354   58.8092  52.0758  51.5264   56.4794  \n",
       "1985    63.2502   58.6939  53.6227  53.7972   56.6369  \n",
       "1986    64.5506   61.9159  55.7588  55.4629   61.4175  \n",
       "1987    66.6955   62.8912  57.8284  57.0461   62.1443  \n",
       "1988    72.3010   65.8237  59.7144  59.6736   64.4422  \n",
       "1989    78.0872   69.3406  62.8362  62.1364   67.7310  \n",
       "1990    77.6320   71.0673  65.3455  65.6080   75.0806  \n",
       "1991    80.1356   75.5456  67.5532  65.9821   71.2865  \n",
       "1992    82.0134   75.6726  68.4600  68.5905   72.5001  \n",
       "1993    79.5582   74.6987  68.8537  69.6758   76.0833  \n",
       "1994    85.9538   77.5044  69.2900  70.3729   76.2577  \n",
       "1995    85.5512   78.5878  71.5596  72.1969   77.3523  \n",
       "1996    94.6517   82.2441  74.7897  75.0062   81.2612  \n",
       "1997    91.0586   82.5919  75.1195  76.3487   81.4314  \n",
       "1998    92.2841   85.6932  78.4057  77.5792   83.3847  \n",
       "1999    98.2941   91.7894  81.8528  79.0292   85.3087  \n",
       "2000   101.9993   91.6262  81.9097  80.7085   87.9622  \n",
       "2001   104.3357   94.8055  84.4761  84.6713   93.7830  \n",
       "2002   104.9186   92.4048  83.8666  81.5255   87.0653  \n",
       "2003   107.2340   98.2105  88.3740  85.3696   92.7688  \n",
       "2004   110.5490   97.8965  88.2913  86.5869   95.8509  \n",
       "2005   106.9236  100.0361  90.3099  88.0298   98.2432  \n",
       "2006   117.2059  106.2274  93.8650  90.1143  101.0209  \n",
       "2007   119.0322  101.6588  92.5908  91.2439   98.4618  \n",
       "2008   121.0940  107.7787  96.8831  93.3234  100.8597  \n",
       "2009   113.8823  103.3491  93.2335  91.8977  101.8014  \n",
       "2010   112.5792  100.4701  90.9259  88.1769  102.5951  \n",
       "2011   120.2087  106.1109  91.6614  90.6340  105.7792  \n",
       "2012   120.2822  104.6692  91.8217  90.7683   99.3654  \n",
       "2013   117.2932  102.4185  91.8143  90.4217   97.8702  \n",
       "2014   114.3700  104.3899  93.5507  93.0872  104.1544  \n",
       "2015   113.9230  104.9454  93.6892  94.1108  101.1895  \n",
       "2016   117.1375  107.3046  92.9818  89.4954   96.3086  \n",
       "2017   123.2163  108.4514  93.4264  89.9026  101.8836  \n",
       "2018   115.7108  103.4070  94.6492  91.9079  101.9883  \n",
       "2019   121.7765  109.7190      NaN      NaN       NaN  "
      ]
     },
     "execution_count": 193,
     "metadata": {},
     "output_type": "execute_result"
    }
   ],
   "source": [
    "pd.pivot_table(data = demand, index = 'Year', columns = 'Month', values = 'Ele_Consume_in_TW')"
   ]
  },
  {
   "cell_type": "code",
   "execution_count": 194,
   "id": "27067638",
   "metadata": {},
   "outputs": [
    {
     "data": {
      "text/plain": [
       "<AxesSubplot:xlabel='Year'>"
      ]
     },
     "execution_count": 194,
     "metadata": {},
     "output_type": "execute_result"
    },
    {
     "data": {
      "image/png": "[encoded data removed]",
      "text/plain": [
       "<Figure size 432x288 with 1 Axes>"
      ]
     },
     "metadata": {
      "needs_background": "light"
     },
     "output_type": "display_data"
    }
   ],
   "source": [
    "# Long to wide data based on Year.\n",
    "pd.pivot_table(data = demand, index = 'Year', columns = 'Month', values = 'Ele_Consume_in_TW').plot(legend = False)"
   ]
  },
  {
   "cell_type": "code",
   "execution_count": 195,
   "id": "11bc840f",
   "metadata": {},
   "outputs": [
    {
     "data": {
      "text/plain": [
       "<AxesSubplot:xlabel='Month'>"
      ]
     },
     "execution_count": 195,
     "metadata": {},
     "output_type": "execute_result"
    },
    {
     "data": {
      "image/png": "[encoded data removed]",
      "text/plain": [
       "<Figure size 432x288 with 1 Axes>"
      ]
     },
     "metadata": {
      "needs_background": "light"
     },
     "output_type": "display_data"
    }
   ],
   "source": [
    "# Long to wide data based on month.\n",
    "pd.pivot_table(data = demand, index = 'Month', columns = 'Year', values = 'Ele_Consume_in_TW').plot(legend = False)"
   ]
  },
  {
   "cell_type": "markdown",
   "id": "8177b156",
   "metadata": {},
   "source": [
    "### Decomposition of Data"
   ]
  },
  {
   "cell_type": "code",
   "execution_count": 196,
   "id": "7e239c79",
   "metadata": {},
   "outputs": [],
   "source": [
    "from statsmodels.tsa.seasonal import seasonal_decompose"
   ]
  },
  {
   "cell_type": "code",
   "execution_count": 197,
   "id": "b2a15a94",
   "metadata": {},
   "outputs": [],
   "source": [
    "#decompose = seasonal_decompose(elec, model='multiplicative', period=1)\n",
    "decompose = seasonal_decompose(elec, model='additive', period=12)"
   ]
  },
  {
   "cell_type": "code",
   "execution_count": 198,
   "id": "4fd1c990",
   "metadata": {},
   "outputs": [
    {
     "data": {
      "image/png": "[encoded data removed]",
      "text/plain": [
       "<Figure size 432x288 with 4 Axes>"
      ]
     },
     "execution_count": 198,
     "metadata": {},
     "output_type": "execute_result"
    },
    {
     "data": {
      "image/png": "[encoded data removed]",
      "text/plain": [
       "<Figure size 432x288 with 4 Axes>"
      ]
     },
     "metadata": {
      "needs_background": "light"
     },
     "output_type": "display_data"
    }
   ],
   "source": [
    "decompose.plot()"
   ]
  },
  {
   "cell_type": "code",
   "execution_count": 199,
   "id": "d7513ed8",
   "metadata": {},
   "outputs": [
    {
     "data": {
      "text/html": [
       "<div>\n",
       "<style scoped>\n",
       "    .dataframe tbody tr th:only-of-type {\n",
       "        vertical-align: middle;\n",
       "    }\n",
       "\n",
       "    .dataframe tbody tr th {\n",
       "        vertical-align: top;\n",
       "    }\n",
       "\n",
       "    .dataframe thead th {\n",
       "        text-align: right;\n",
       "    }\n",
       "</style>\n",
       "<table border=\"1\" class=\"dataframe\">\n",
       "  <thead>\n",
       "    <tr style=\"text-align: right;\">\n",
       "      <th></th>\n",
       "      <th>Ele_Consume_in_TW</th>\n",
       "      <th>trend</th>\n",
       "      <th>seasonal</th>\n",
       "      <th>resid</th>\n",
       "    </tr>\n",
       "    <tr>\n",
       "      <th>Year_Month</th>\n",
       "      <th></th>\n",
       "      <th></th>\n",
       "      <th></th>\n",
       "      <th></th>\n",
       "    </tr>\n",
       "  </thead>\n",
       "  <tbody>\n",
       "    <tr>\n",
       "      <th>1973-01-01</th>\n",
       "      <td>35.9728</td>\n",
       "      <td>NaN</td>\n",
       "      <td>4.135755</td>\n",
       "      <td>NaN</td>\n",
       "    </tr>\n",
       "    <tr>\n",
       "      <th>1973-02-01</th>\n",
       "      <td>36.1334</td>\n",
       "      <td>NaN</td>\n",
       "      <td>-0.705922</td>\n",
       "      <td>NaN</td>\n",
       "    </tr>\n",
       "    <tr>\n",
       "      <th>1973-03-01</th>\n",
       "      <td>35.0625</td>\n",
       "      <td>NaN</td>\n",
       "      <td>-4.489678</td>\n",
       "      <td>NaN</td>\n",
       "    </tr>\n",
       "    <tr>\n",
       "      <th>1973-04-01</th>\n",
       "      <td>33.8416</td>\n",
       "      <td>NaN</td>\n",
       "      <td>-8.668415</td>\n",
       "      <td>NaN</td>\n",
       "    </tr>\n",
       "    <tr>\n",
       "      <th>1973-05-01</th>\n",
       "      <td>33.5107</td>\n",
       "      <td>NaN</td>\n",
       "      <td>-6.044817</td>\n",
       "      <td>NaN</td>\n",
       "    </tr>\n",
       "    <tr>\n",
       "      <th>1973-06-01</th>\n",
       "      <td>36.4823</td>\n",
       "      <td>NaN</td>\n",
       "      <td>2.943116</td>\n",
       "      <td>NaN</td>\n",
       "    </tr>\n",
       "    <tr>\n",
       "      <th>1973-07-01</th>\n",
       "      <td>39.1412</td>\n",
       "      <td>37.223388</td>\n",
       "      <td>10.277826</td>\n",
       "      <td>-8.360014</td>\n",
       "    </tr>\n",
       "    <tr>\n",
       "      <th>1973-08-01</th>\n",
       "      <td>41.4137</td>\n",
       "      <td>37.576442</td>\n",
       "      <td>10.828421</td>\n",
       "      <td>-6.991163</td>\n",
       "    </tr>\n",
       "    <tr>\n",
       "      <th>1973-09-01</th>\n",
       "      <td>40.1639</td>\n",
       "      <td>37.850562</td>\n",
       "      <td>2.891998</td>\n",
       "      <td>-0.578660</td>\n",
       "    </tr>\n",
       "    <tr>\n",
       "      <th>1973-10-01</th>\n",
       "      <td>37.1133</td>\n",
       "      <td>38.072942</td>\n",
       "      <td>-5.105992</td>\n",
       "      <td>4.146351</td>\n",
       "    </tr>\n",
       "    <tr>\n",
       "      <th>1973-11-01</th>\n",
       "      <td>37.0248</td>\n",
       "      <td>38.301167</td>\n",
       "      <td>-6.171314</td>\n",
       "      <td>4.894947</td>\n",
       "    </tr>\n",
       "    <tr>\n",
       "      <th>1973-12-01</th>\n",
       "      <td>38.4341</td>\n",
       "      <td>38.610592</td>\n",
       "      <td>0.109021</td>\n",
       "      <td>-0.285513</td>\n",
       "    </tr>\n",
       "    <tr>\n",
       "      <th>1974-01-01</th>\n",
       "      <td>40.7455</td>\n",
       "      <td>39.011537</td>\n",
       "      <td>4.135755</td>\n",
       "      <td>-2.401792</td>\n",
       "    </tr>\n",
       "    <tr>\n",
       "      <th>1974-02-01</th>\n",
       "      <td>39.8340</td>\n",
       "      <td>39.416762</td>\n",
       "      <td>-0.705922</td>\n",
       "      <td>1.123159</td>\n",
       "    </tr>\n",
       "    <tr>\n",
       "      <th>1974-03-01</th>\n",
       "      <td>37.9408</td>\n",
       "      <td>39.783508</td>\n",
       "      <td>-4.489678</td>\n",
       "      <td>2.646970</td>\n",
       "    </tr>\n",
       "    <tr>\n",
       "      <th>1974-04-01</th>\n",
       "      <td>36.3004</td>\n",
       "      <td>40.109342</td>\n",
       "      <td>-8.668415</td>\n",
       "      <td>4.859473</td>\n",
       "    </tr>\n",
       "    <tr>\n",
       "      <th>1974-05-01</th>\n",
       "      <td>36.5293</td>\n",
       "      <td>40.359079</td>\n",
       "      <td>-6.044817</td>\n",
       "      <td>2.215038</td>\n",
       "    </tr>\n",
       "    <tr>\n",
       "      <th>1974-06-01</th>\n",
       "      <td>40.8899</td>\n",
       "      <td>40.481496</td>\n",
       "      <td>2.943116</td>\n",
       "      <td>-2.534712</td>\n",
       "    </tr>\n",
       "    <tr>\n",
       "      <th>1974-07-01</th>\n",
       "      <td>44.3563</td>\n",
       "      <td>40.474112</td>\n",
       "      <td>10.277826</td>\n",
       "      <td>-6.395639</td>\n",
       "    </tr>\n",
       "    <tr>\n",
       "      <th>1974-08-01</th>\n",
       "      <td>45.9240</td>\n",
       "      <td>40.441217</td>\n",
       "      <td>10.828421</td>\n",
       "      <td>-5.345638</td>\n",
       "    </tr>\n",
       "    <tr>\n",
       "      <th>1974-09-01</th>\n",
       "      <td>44.4555</td>\n",
       "      <td>40.450533</td>\n",
       "      <td>2.891998</td>\n",
       "      <td>1.112969</td>\n",
       "    </tr>\n",
       "    <tr>\n",
       "      <th>1974-10-01</th>\n",
       "      <td>40.6417</td>\n",
       "      <td>40.490396</td>\n",
       "      <td>-5.105992</td>\n",
       "      <td>5.257297</td>\n",
       "    </tr>\n",
       "    <tr>\n",
       "      <th>1974-11-01</th>\n",
       "      <td>39.4901</td>\n",
       "      <td>40.558354</td>\n",
       "      <td>-6.171314</td>\n",
       "      <td>5.103060</td>\n",
       "    </tr>\n",
       "    <tr>\n",
       "      <th>1974-12-01</th>\n",
       "      <td>38.9068</td>\n",
       "      <td>40.580471</td>\n",
       "      <td>0.109021</td>\n",
       "      <td>-1.782692</td>\n",
       "    </tr>\n",
       "  </tbody>\n",
       "</table>\n",
       "</div>"
      ],
      "text/plain": [
       "            Ele_Consume_in_TW      trend   seasonal     resid\n",
       "Year_Month                                                   \n",
       "1973-01-01            35.9728        NaN   4.135755       NaN\n",
       "1973-02-01            36.1334        NaN  -0.705922       NaN\n",
       "1973-03-01            35.0625        NaN  -4.489678       NaN\n",
       "1973-04-01            33.8416        NaN  -8.668415       NaN\n",
       "1973-05-01            33.5107        NaN  -6.044817       NaN\n",
       "1973-06-01            36.4823        NaN   2.943116       NaN\n",
       "1973-07-01            39.1412  37.223388  10.277826 -8.360014\n",
       "1973-08-01            41.4137  37.576442  10.828421 -6.991163\n",
       "1973-09-01            40.1639  37.850562   2.891998 -0.578660\n",
       "1973-10-01            37.1133  38.072942  -5.105992  4.146351\n",
       "1973-11-01            37.0248  38.301167  -6.171314  4.894947\n",
       "1973-12-01            38.4341  38.610592   0.109021 -0.285513\n",
       "1974-01-01            40.7455  39.011537   4.135755 -2.401792\n",
       "1974-02-01            39.8340  39.416762  -0.705922  1.123159\n",
       "1974-03-01            37.9408  39.783508  -4.489678  2.646970\n",
       "1974-04-01            36.3004  40.109342  -8.668415  4.859473\n",
       "1974-05-01            36.5293  40.359079  -6.044817  2.215038\n",
       "1974-06-01            40.8899  40.481496   2.943116 -2.534712\n",
       "1974-07-01            44.3563  40.474112  10.277826 -6.395639\n",
       "1974-08-01            45.9240  40.441217  10.828421 -5.345638\n",
       "1974-09-01            44.4555  40.450533   2.891998  1.112969\n",
       "1974-10-01            40.6417  40.490396  -5.105992  5.257297\n",
       "1974-11-01            39.4901  40.558354  -6.171314  5.103060\n",
       "1974-12-01            38.9068  40.580471   0.109021 -1.782692"
      ]
     },
     "execution_count": 199,
     "metadata": {},
     "output_type": "execute_result"
    }
   ],
   "source": [
    "pd.concat([decompose.observed, decompose.trend, decompose.seasonal, decompose.resid], axis=1).head(24)"
   ]
  },
  {
   "cell_type": "code",
   "execution_count": 200,
   "id": "421476be",
   "metadata": {},
   "outputs": [],
   "source": [
    "from statsmodels.tsa.stattools import acf, pacf_ols"
   ]
  },
  {
   "cell_type": "code",
   "execution_count": 201,
   "id": "22b889e6",
   "metadata": {},
   "outputs": [
    {
     "data": {
      "text/plain": [
       "array([1.        , 0.95647392, 0.87822982, 0.82945315, 0.841529  ,\n",
       "       0.88813059, 0.91122643, 0.88196658, 0.82805401, 0.80579718,\n",
       "       0.84356484, 0.9092393 , 0.94048579, 0.90057994, 0.82617458,\n",
       "       0.77958655, 0.79320802, 0.8397309 , 0.86221357, 0.83379379,\n",
       "       0.78177625, 0.76069374, 0.79757444, 0.8619873 , 0.89139636,\n",
       "       0.85166914, 0.77857553, 0.73313065, 0.74640927, 0.79162819,\n",
       "       0.81316289, 0.78520664, 0.73310236, 0.71201771, 0.74767556,\n",
       "       0.80929857, 0.83784094, 0.79920595, 0.72847833, 0.6849164 ,\n",
       "       0.69784608])"
      ]
     },
     "execution_count": 201,
     "metadata": {},
     "output_type": "execute_result"
    }
   ],
   "source": [
    "acf(elec)"
   ]
  },
  {
   "cell_type": "code",
   "execution_count": 202,
   "id": "3207e250",
   "metadata": {},
   "outputs": [
    {
     "data": {
      "text/plain": [
       "array([ 1.        ,  0.96010214, -0.46239143,  0.68714216,  0.45886201,\n",
       "        0.1559856 , -0.18798794, -0.01014574,  0.18169407,  0.49156644,\n",
       "        0.49933306,  0.5094987 ,  0.37656677, -0.41925301, -0.05163282,\n",
       "       -0.13345659,  0.11005347, -0.00342721, -0.02550308,  0.01845861,\n",
       "       -0.0503431 , -0.00971101,  0.057987  ,  0.2401917 ,  0.1500228 ,\n",
       "       -0.12035626, -0.01871735, -0.05644169, -0.00463219, -0.06631367,\n",
       "        0.0409564 ,  0.02993122, -0.04493081,  0.10883131,  0.00458799,\n",
       "        0.13946451,  0.10968151, -0.18123046, -0.01554567, -0.0029174 ,\n",
       "       -0.07123474])"
      ]
     },
     "execution_count": 202,
     "metadata": {},
     "output_type": "execute_result"
    }
   ],
   "source": [
    "pacf_ols(elec)"
   ]
  },
  {
   "cell_type": "code",
   "execution_count": 203,
   "id": "ee5f9a82",
   "metadata": {},
   "outputs": [],
   "source": [
    "import statsmodels.tsa.api as smt"
   ]
  },
  {
   "cell_type": "code",
   "execution_count": 204,
   "id": "df925da7",
   "metadata": {},
   "outputs": [
    {
     "data": {
      "image/png": "[encoded data removed]",
      "text/plain": [
       "<Figure size 432x288 with 1 Axes>"
      ]
     },
     "execution_count": 204,
     "metadata": {},
     "output_type": "execute_result"
    },
    {
     "data": {
      "image/png": "[encoded data removed]",
      "text/plain": [
       "<Figure size 432x288 with 1 Axes>"
      ]
     },
     "metadata": {
      "needs_background": "light"
     },
     "output_type": "display_data"
    }
   ],
   "source": [
    "smt.graphics.plot_acf(elec, lags=24)"
   ]
  },
  {
   "cell_type": "code",
   "execution_count": 205,
   "id": "9b1d9282",
   "metadata": {},
   "outputs": [
    {
     "data": {
      "image/png": "[encoded data removed]",
      "text/plain": [
       "<Figure size 432x288 with 1 Axes>"
      ]
     },
     "execution_count": 205,
     "metadata": {},
     "output_type": "execute_result"
    },
    {
     "data": {
      "image/png": "[encoded data removed]",
      "text/plain": [
       "<Figure size 432x288 with 1 Axes>"
      ]
     },
     "metadata": {
      "needs_background": "light"
     },
     "output_type": "display_data"
    }
   ],
   "source": [
    "smt.graphics.plot_pacf(elec, lags = 24, method='ols')"
   ]
  },
  {
   "cell_type": "markdown",
   "id": "61f63a88",
   "metadata": {},
   "source": [
    "### Is the series stationary?\n",
    "\n",
    "`Perform Augumented Dickey-Fuller test:`"
   ]
  },
  {
   "cell_type": "code",
   "execution_count": 206,
   "id": "1fc974e5",
   "metadata": {},
   "outputs": [
    {
     "data": {
      "text/plain": [
       "(-1.7405933729832443,\n",
       " 0.41032816044686793,\n",
       " 15,\n",
       " 545,\n",
       " {'1%': -3.442405720052601,\n",
       "  '5%': -2.866857804790472,\n",
       "  '10%': -2.5696022094099824},\n",
       " 2295.409663118043)"
      ]
     },
     "execution_count": 206,
     "metadata": {},
     "output_type": "execute_result"
    }
   ],
   "source": [
    "from statsmodels.tsa.stattools import adfuller\n",
    "\n",
    "adfuller(elec)   # p-value:0.410328, since p-value > 0.05 then, the series(elec) is not stationary."
   ]
  },
  {
   "cell_type": "code",
   "execution_count": 207,
   "id": "beb7a175",
   "metadata": {},
   "outputs": [],
   "source": [
    "elec_ln = np.log(elec)"
   ]
  },
  {
   "cell_type": "markdown",
   "id": "a8420f74",
   "metadata": {},
   "source": [
    "When the test statistic is lower than the any critical value shown, you reject the null hypothesis and infer that the time series is stationary."
   ]
  },
  {
   "cell_type": "code",
   "execution_count": 208,
   "id": "a05c9008",
   "metadata": {},
   "outputs": [
    {
     "data": {
      "text/plain": [
       "(-3.0018666788915827,\n",
       " 0.03472044330065443,\n",
       " 15,\n",
       " 545,\n",
       " {'1%': -3.442405720052601,\n",
       "  '5%': -2.866857804790472,\n",
       "  '10%': -2.5696022094099824},\n",
       " -2515.6635118596973)"
      ]
     },
     "execution_count": 208,
     "metadata": {},
     "output_type": "execute_result"
    }
   ],
   "source": [
    "adfuller(elec_ln)"
   ]
  },
  {
   "cell_type": "code",
   "execution_count": 209,
   "id": "b342dd96",
   "metadata": {},
   "outputs": [
    {
     "data": {
      "text/plain": [
       "<AxesSubplot:xlabel='Year_Month'>"
      ]
     },
     "execution_count": 209,
     "metadata": {},
     "output_type": "execute_result"
    },
    {
     "data": {
      "image/png": "[encoded data removed]",
      "text/plain": [
       "<Figure size 432x288 with 1 Axes>"
      ]
     },
     "metadata": {
      "needs_background": "light"
     },
     "output_type": "display_data"
    }
   ],
   "source": [
    "# Moving average\n",
    "\n",
    "elec.rolling(window=12).mean().plot()"
   ]
  },
  {
   "cell_type": "code",
   "execution_count": 210,
   "id": "546a8d3e",
   "metadata": {},
   "outputs": [
    {
     "data": {
      "text/plain": [
       "<AxesSubplot:xlabel='Year_Month'>"
      ]
     },
     "execution_count": 210,
     "metadata": {},
     "output_type": "execute_result"
    },
    {
     "data": {
      "image/png": "[encoded data removed]",
      "text/plain": [
       "<Figure size 432x288 with 1 Axes>"
      ]
     },
     "metadata": {
      "needs_background": "light"
     },
     "output_type": "display_data"
    }
   ],
   "source": [
    "elec.rolling(window=6).mean().plot()"
   ]
  },
  {
   "cell_type": "markdown",
   "id": "88c2ad54",
   "metadata": {},
   "source": [
    "### ETS model"
   ]
  },
  {
   "cell_type": "code",
   "execution_count": 211,
   "id": "93ddb790",
   "metadata": {},
   "outputs": [],
   "source": [
    "from statsmodels.tsa.holtwinters import ExponentialSmoothing"
   ]
  },
  {
   "cell_type": "code",
   "execution_count": 212,
   "id": "9343aaae",
   "metadata": {},
   "outputs": [],
   "source": [
    "from sklearn.metrics import mean_absolute_error"
   ]
  },
  {
   "cell_type": "code",
   "execution_count": 213,
   "id": "88bf54bc",
   "metadata": {},
   "outputs": [],
   "source": [
    "def auto_hwm(timeseries, val_split_date, alpha=[None], beta=[None], gamma=[None], \n",
    "              trend=None, seasonal=None, periods=None, verbose=False):\n",
    "\n",
    "    best_params = []\n",
    "    actual = timeseries[val_split_date:]\n",
    "\n",
    "    print('Evaluating Exponential Smoothing model for', len(alpha) * len(beta) * len(gamma), 'fits\\n')\n",
    "\n",
    "    for a in alpha:\n",
    "        for b in beta:\n",
    "            for g in gamma:\n",
    "\n",
    "                    if(verbose == True):\n",
    "                        print('Checking for', {'alpha': a, 'beta': b, 'gamma': g})\n",
    "\n",
    "                    model = ExponentialSmoothing(timeseries, trend=trend, seasonal=seasonal, seasonal_periods=periods)\n",
    "                    model.fit(smoothing_level=a, smoothing_slope=b, smoothing_seasonal=g)\n",
    "                    f_cast = model.predict(model.params, start=actual.index[0])\n",
    "                    score = np.where(np.float64(mean_absolute_error(actual, f_cast)/actual).mean()>0,np.float64(mean_absolute_error(actual, f_cast)/actual).mean(),0)\n",
    "\n",
    "                    best_params.append({'alpha': a, 'beta': b, 'gamma': g, 'mae': score})\n",
    "\n",
    "    return min(best_params, key=lambda x: x['MAE'])"
   ]
  },
  {
   "cell_type": "code",
   "execution_count": 214,
   "id": "10886f4d",
   "metadata": {},
   "outputs": [
    {
     "data": {
      "text/html": [
       "<div>\n",
       "<style scoped>\n",
       "    .dataframe tbody tr th:only-of-type {\n",
       "        vertical-align: middle;\n",
       "    }\n",
       "\n",
       "    .dataframe tbody tr th {\n",
       "        vertical-align: top;\n",
       "    }\n",
       "\n",
       "    .dataframe thead th {\n",
       "        text-align: right;\n",
       "    }\n",
       "</style>\n",
       "<table border=\"1\" class=\"dataframe\">\n",
       "  <thead>\n",
       "    <tr style=\"text-align: right;\">\n",
       "      <th></th>\n",
       "      <th>Month_Year</th>\n",
       "      <th>Ele_Consume_in_TW</th>\n",
       "      <th>Year_Month</th>\n",
       "      <th>Year</th>\n",
       "      <th>Month</th>\n",
       "    </tr>\n",
       "    <tr>\n",
       "      <th>Year_Month</th>\n",
       "      <th></th>\n",
       "      <th></th>\n",
       "      <th></th>\n",
       "      <th></th>\n",
       "      <th></th>\n",
       "    </tr>\n",
       "  </thead>\n",
       "  <tbody>\n",
       "    <tr>\n",
       "      <th>2018-10-01</th>\n",
       "      <td>10/1/2018</td>\n",
       "      <td>94.6492</td>\n",
       "      <td>2018-10-01</td>\n",
       "      <td>2018</td>\n",
       "      <td>10</td>\n",
       "    </tr>\n",
       "    <tr>\n",
       "      <th>2018-11-01</th>\n",
       "      <td>11/1/2018</td>\n",
       "      <td>91.9079</td>\n",
       "      <td>2018-11-01</td>\n",
       "      <td>2018</td>\n",
       "      <td>11</td>\n",
       "    </tr>\n",
       "    <tr>\n",
       "      <th>2018-12-01</th>\n",
       "      <td>12/1/2018</td>\n",
       "      <td>101.9883</td>\n",
       "      <td>2018-12-01</td>\n",
       "      <td>2018</td>\n",
       "      <td>12</td>\n",
       "    </tr>\n",
       "    <tr>\n",
       "      <th>2019-01-01</th>\n",
       "      <td>1/1/2019</td>\n",
       "      <td>111.8520</td>\n",
       "      <td>2019-01-01</td>\n",
       "      <td>2019</td>\n",
       "      <td>1</td>\n",
       "    </tr>\n",
       "    <tr>\n",
       "      <th>2019-02-01</th>\n",
       "      <td>2/1/2019</td>\n",
       "      <td>97.3261</td>\n",
       "      <td>2019-02-01</td>\n",
       "      <td>2019</td>\n",
       "      <td>2</td>\n",
       "    </tr>\n",
       "    <tr>\n",
       "      <th>2019-03-01</th>\n",
       "      <td>3/1/2019</td>\n",
       "      <td>93.8406</td>\n",
       "      <td>2019-03-01</td>\n",
       "      <td>2019</td>\n",
       "      <td>3</td>\n",
       "    </tr>\n",
       "    <tr>\n",
       "      <th>2019-04-01</th>\n",
       "      <td>4/1/2019</td>\n",
       "      <td>89.1873</td>\n",
       "      <td>2019-04-01</td>\n",
       "      <td>2019</td>\n",
       "      <td>4</td>\n",
       "    </tr>\n",
       "    <tr>\n",
       "      <th>2019-05-01</th>\n",
       "      <td>5/1/2019</td>\n",
       "      <td>97.5860</td>\n",
       "      <td>2019-05-01</td>\n",
       "      <td>2019</td>\n",
       "      <td>5</td>\n",
       "    </tr>\n",
       "    <tr>\n",
       "      <th>2019-06-01</th>\n",
       "      <td>6/1/2019</td>\n",
       "      <td>110.8580</td>\n",
       "      <td>2019-06-01</td>\n",
       "      <td>2019</td>\n",
       "      <td>6</td>\n",
       "    </tr>\n",
       "    <tr>\n",
       "      <th>2019-07-01</th>\n",
       "      <td>7/1/2019</td>\n",
       "      <td>122.1014</td>\n",
       "      <td>2019-07-01</td>\n",
       "      <td>2019</td>\n",
       "      <td>7</td>\n",
       "    </tr>\n",
       "    <tr>\n",
       "      <th>2019-08-01</th>\n",
       "      <td>8/1/2019</td>\n",
       "      <td>121.7765</td>\n",
       "      <td>2019-08-01</td>\n",
       "      <td>2019</td>\n",
       "      <td>8</td>\n",
       "    </tr>\n",
       "    <tr>\n",
       "      <th>2019-09-01</th>\n",
       "      <td>9/1/2019</td>\n",
       "      <td>109.7190</td>\n",
       "      <td>2019-09-01</td>\n",
       "      <td>2019</td>\n",
       "      <td>9</td>\n",
       "    </tr>\n",
       "  </tbody>\n",
       "</table>\n",
       "</div>"
      ],
      "text/plain": [
       "           Month_Year  Ele_Consume_in_TW Year_Month  Year  Month\n",
       "Year_Month                                                      \n",
       "2018-10-01  10/1/2018            94.6492 2018-10-01  2018     10\n",
       "2018-11-01  11/1/2018            91.9079 2018-11-01  2018     11\n",
       "2018-12-01  12/1/2018           101.9883 2018-12-01  2018     12\n",
       "2019-01-01   1/1/2019           111.8520 2019-01-01  2019      1\n",
       "2019-02-01   2/1/2019            97.3261 2019-02-01  2019      2\n",
       "2019-03-01   3/1/2019            93.8406 2019-03-01  2019      3\n",
       "2019-04-01   4/1/2019            89.1873 2019-04-01  2019      4\n",
       "2019-05-01   5/1/2019            97.5860 2019-05-01  2019      5\n",
       "2019-06-01   6/1/2019           110.8580 2019-06-01  2019      6\n",
       "2019-07-01   7/1/2019           122.1014 2019-07-01  2019      7\n",
       "2019-08-01   8/1/2019           121.7765 2019-08-01  2019      8\n",
       "2019-09-01   9/1/2019           109.7190 2019-09-01  2019      9"
      ]
     },
     "execution_count": 214,
     "metadata": {},
     "output_type": "execute_result"
    }
   ],
   "source": [
    "demand.tail(12)"
   ]
  },
  {
   "cell_type": "code",
   "execution_count": 215,
   "id": "1fc89d1b",
   "metadata": {},
   "outputs": [],
   "source": [
    "alpha = [0.1,0.2,0.3,0.4,0.5,0.6,0.7,0.8,0.9]\n",
    "beta = [0.1,0.2,0.3,0.4,0.5,0.6,0.7,0.8,0.9]\n",
    "gamma =[0.1,0.2,0.3,0.4,0.5,0.6,0.7,0.8,0.9]"
   ]
  },
  {
   "cell_type": "code",
   "execution_count": 216,
   "id": "c6c93d62",
   "metadata": {},
   "outputs": [
    {
     "name": "stdout",
     "output_type": "stream",
     "text": [
      "Evaluating Exponential Smoothing model for 729 fits\n",
      "\n",
      "Checking for {'alpha': 0.1, 'beta': 0.1, 'gamma': 0.1}\n",
      "Checking for {'alpha': 0.1, 'beta': 0.1, 'gamma': 0.2}\n",
      "Checking for {'alpha': 0.1, 'beta': 0.1, 'gamma': 0.3}\n",
      "Checking for {'alpha': 0.1, 'beta': 0.1, 'gamma': 0.4}\n",
      "Checking for {'alpha': 0.1, 'beta': 0.1, 'gamma': 0.5}\n",
      "Checking for {'alpha': 0.1, 'beta': 0.1, 'gamma': 0.6}\n",
      "Checking for {'alpha': 0.1, 'beta': 0.1, 'gamma': 0.7}\n",
      "Checking for {'alpha': 0.1, 'beta': 0.1, 'gamma': 0.8}\n",
      "Checking for {'alpha': 0.1, 'beta': 0.1, 'gamma': 0.9}\n",
      "Checking for {'alpha': 0.1, 'beta': 0.2, 'gamma': 0.1}\n",
      "Checking for {'alpha': 0.1, 'beta': 0.2, 'gamma': 0.2}\n",
      "Checking for {'alpha': 0.1, 'beta': 0.2, 'gamma': 0.3}\n",
      "Checking for {'alpha': 0.1, 'beta': 0.2, 'gamma': 0.4}\n",
      "Checking for {'alpha': 0.1, 'beta': 0.2, 'gamma': 0.5}\n",
      "Checking for {'alpha': 0.1, 'beta': 0.2, 'gamma': 0.6}\n",
      "Checking for {'alpha': 0.1, 'beta': 0.2, 'gamma': 0.7}\n",
      "Checking for {'alpha': 0.1, 'beta': 0.2, 'gamma': 0.8}\n",
      "Checking for {'alpha': 0.1, 'beta': 0.2, 'gamma': 0.9}\n",
      "Checking for {'alpha': 0.1, 'beta': 0.3, 'gamma': 0.1}\n",
      "Checking for {'alpha': 0.1, 'beta': 0.3, 'gamma': 0.2}\n",
      "Checking for {'alpha': 0.1, 'beta': 0.3, 'gamma': 0.3}\n",
      "Checking for {'alpha': 0.1, 'beta': 0.3, 'gamma': 0.4}\n",
      "Checking for {'alpha': 0.1, 'beta': 0.3, 'gamma': 0.5}\n",
      "Checking for {'alpha': 0.1, 'beta': 0.3, 'gamma': 0.6}\n",
      "Checking for {'alpha': 0.1, 'beta': 0.3, 'gamma': 0.7}\n",
      "Checking for {'alpha': 0.1, 'beta': 0.3, 'gamma': 0.8}\n",
      "Checking for {'alpha': 0.1, 'beta': 0.3, 'gamma': 0.9}\n",
      "Checking for {'alpha': 0.1, 'beta': 0.4, 'gamma': 0.1}\n",
      "Checking for {'alpha': 0.1, 'beta': 0.4, 'gamma': 0.2}\n",
      "Checking for {'alpha': 0.1, 'beta': 0.4, 'gamma': 0.3}\n",
      "Checking for {'alpha': 0.1, 'beta': 0.4, 'gamma': 0.4}\n",
      "Checking for {'alpha': 0.1, 'beta': 0.4, 'gamma': 0.5}\n",
      "Checking for {'alpha': 0.1, 'beta': 0.4, 'gamma': 0.6}\n",
      "Checking for {'alpha': 0.1, 'beta': 0.4, 'gamma': 0.7}\n",
      "Checking for {'alpha': 0.1, 'beta': 0.4, 'gamma': 0.8}\n",
      "Checking for {'alpha': 0.1, 'beta': 0.4, 'gamma': 0.9}\n",
      "Checking for {'alpha': 0.1, 'beta': 0.5, 'gamma': 0.1}\n",
      "Checking for {'alpha': 0.1, 'beta': 0.5, 'gamma': 0.2}\n",
      "Checking for {'alpha': 0.1, 'beta': 0.5, 'gamma': 0.3}\n",
      "Checking for {'alpha': 0.1, 'beta': 0.5, 'gamma': 0.4}\n",
      "Checking for {'alpha': 0.1, 'beta': 0.5, 'gamma': 0.5}\n",
      "Checking for {'alpha': 0.1, 'beta': 0.5, 'gamma': 0.6}\n",
      "Checking for {'alpha': 0.1, 'beta': 0.5, 'gamma': 0.7}\n",
      "Checking for {'alpha': 0.1, 'beta': 0.5, 'gamma': 0.8}\n",
      "Checking for {'alpha': 0.1, 'beta': 0.5, 'gamma': 0.9}\n",
      "Checking for {'alpha': 0.1, 'beta': 0.6, 'gamma': 0.1}\n",
      "Checking for {'alpha': 0.1, 'beta': 0.6, 'gamma': 0.2}\n",
      "Checking for {'alpha': 0.1, 'beta': 0.6, 'gamma': 0.3}\n",
      "Checking for {'alpha': 0.1, 'beta': 0.6, 'gamma': 0.4}\n",
      "Checking for {'alpha': 0.1, 'beta': 0.6, 'gamma': 0.5}\n",
      "Checking for {'alpha': 0.1, 'beta': 0.6, 'gamma': 0.6}\n",
      "Checking for {'alpha': 0.1, 'beta': 0.6, 'gamma': 0.7}\n",
      "Checking for {'alpha': 0.1, 'beta': 0.6, 'gamma': 0.8}\n",
      "Checking for {'alpha': 0.1, 'beta': 0.6, 'gamma': 0.9}\n",
      "Checking for {'alpha': 0.1, 'beta': 0.7, 'gamma': 0.1}\n",
      "Checking for {'alpha': 0.1, 'beta': 0.7, 'gamma': 0.2}\n",
      "Checking for {'alpha': 0.1, 'beta': 0.7, 'gamma': 0.3}\n",
      "Checking for {'alpha': 0.1, 'beta': 0.7, 'gamma': 0.4}\n",
      "Checking for {'alpha': 0.1, 'beta': 0.7, 'gamma': 0.5}\n",
      "Checking for {'alpha': 0.1, 'beta': 0.7, 'gamma': 0.6}\n",
      "Checking for {'alpha': 0.1, 'beta': 0.7, 'gamma': 0.7}\n",
      "Checking for {'alpha': 0.1, 'beta': 0.7, 'gamma': 0.8}\n",
      "Checking for {'alpha': 0.1, 'beta': 0.7, 'gamma': 0.9}\n",
      "Checking for {'alpha': 0.1, 'beta': 0.8, 'gamma': 0.1}\n",
      "Checking for {'alpha': 0.1, 'beta': 0.8, 'gamma': 0.2}\n",
      "Checking for {'alpha': 0.1, 'beta': 0.8, 'gamma': 0.3}\n",
      "Checking for {'alpha': 0.1, 'beta': 0.8, 'gamma': 0.4}\n",
      "Checking for {'alpha': 0.1, 'beta': 0.8, 'gamma': 0.5}\n",
      "Checking for {'alpha': 0.1, 'beta': 0.8, 'gamma': 0.6}\n",
      "Checking for {'alpha': 0.1, 'beta': 0.8, 'gamma': 0.7}\n",
      "Checking for {'alpha': 0.1, 'beta': 0.8, 'gamma': 0.8}\n",
      "Checking for {'alpha': 0.1, 'beta': 0.8, 'gamma': 0.9}\n",
      "Checking for {'alpha': 0.1, 'beta': 0.9, 'gamma': 0.1}\n",
      "Checking for {'alpha': 0.1, 'beta': 0.9, 'gamma': 0.2}\n",
      "Checking for {'alpha': 0.1, 'beta': 0.9, 'gamma': 0.3}\n",
      "Checking for {'alpha': 0.1, 'beta': 0.9, 'gamma': 0.4}\n",
      "Checking for {'alpha': 0.1, 'beta': 0.9, 'gamma': 0.5}\n",
      "Checking for {'alpha': 0.1, 'beta': 0.9, 'gamma': 0.6}\n",
      "Checking for {'alpha': 0.1, 'beta': 0.9, 'gamma': 0.7}\n",
      "Checking for {'alpha': 0.1, 'beta': 0.9, 'gamma': 0.8}\n",
      "Checking for {'alpha': 0.1, 'beta': 0.9, 'gamma': 0.9}\n",
      "Checking for {'alpha': 0.2, 'beta': 0.1, 'gamma': 0.1}\n",
      "Checking for {'alpha': 0.2, 'beta': 0.1, 'gamma': 0.2}\n",
      "Checking for {'alpha': 0.2, 'beta': 0.1, 'gamma': 0.3}\n",
      "Checking for {'alpha': 0.2, 'beta': 0.1, 'gamma': 0.4}\n",
      "Checking for {'alpha': 0.2, 'beta': 0.1, 'gamma': 0.5}\n",
      "Checking for {'alpha': 0.2, 'beta': 0.1, 'gamma': 0.6}\n",
      "Checking for {'alpha': 0.2, 'beta': 0.1, 'gamma': 0.7}\n",
      "Checking for {'alpha': 0.2, 'beta': 0.1, 'gamma': 0.8}\n",
      "Checking for {'alpha': 0.2, 'beta': 0.1, 'gamma': 0.9}\n",
      "Checking for {'alpha': 0.2, 'beta': 0.2, 'gamma': 0.1}\n",
      "Checking for {'alpha': 0.2, 'beta': 0.2, 'gamma': 0.2}\n",
      "Checking for {'alpha': 0.2, 'beta': 0.2, 'gamma': 0.3}\n",
      "Checking for {'alpha': 0.2, 'beta': 0.2, 'gamma': 0.4}\n",
      "Checking for {'alpha': 0.2, 'beta': 0.2, 'gamma': 0.5}\n",
      "Checking for {'alpha': 0.2, 'beta': 0.2, 'gamma': 0.6}\n",
      "Checking for {'alpha': 0.2, 'beta': 0.2, 'gamma': 0.7}\n",
      "Checking for {'alpha': 0.2, 'beta': 0.2, 'gamma': 0.8}\n",
      "Checking for {'alpha': 0.2, 'beta': 0.2, 'gamma': 0.9}\n",
      "Checking for {'alpha': 0.2, 'beta': 0.3, 'gamma': 0.1}\n",
      "Checking for {'alpha': 0.2, 'beta': 0.3, 'gamma': 0.2}\n",
      "Checking for {'alpha': 0.2, 'beta': 0.3, 'gamma': 0.3}\n",
      "Checking for {'alpha': 0.2, 'beta': 0.3, 'gamma': 0.4}\n",
      "Checking for {'alpha': 0.2, 'beta': 0.3, 'gamma': 0.5}\n",
      "Checking for {'alpha': 0.2, 'beta': 0.3, 'gamma': 0.6}\n",
      "Checking for {'alpha': 0.2, 'beta': 0.3, 'gamma': 0.7}\n",
      "Checking for {'alpha': 0.2, 'beta': 0.3, 'gamma': 0.8}\n",
      "Checking for {'alpha': 0.2, 'beta': 0.3, 'gamma': 0.9}\n",
      "Checking for {'alpha': 0.2, 'beta': 0.4, 'gamma': 0.1}\n",
      "Checking for {'alpha': 0.2, 'beta': 0.4, 'gamma': 0.2}\n",
      "Checking for {'alpha': 0.2, 'beta': 0.4, 'gamma': 0.3}\n",
      "Checking for {'alpha': 0.2, 'beta': 0.4, 'gamma': 0.4}\n",
      "Checking for {'alpha': 0.2, 'beta': 0.4, 'gamma': 0.5}\n",
      "Checking for {'alpha': 0.2, 'beta': 0.4, 'gamma': 0.6}\n",
      "Checking for {'alpha': 0.2, 'beta': 0.4, 'gamma': 0.7}\n",
      "Checking for {'alpha': 0.2, 'beta': 0.4, 'gamma': 0.8}\n",
      "Checking for {'alpha': 0.2, 'beta': 0.4, 'gamma': 0.9}\n",
      "Checking for {'alpha': 0.2, 'beta': 0.5, 'gamma': 0.1}\n",
      "Checking for {'alpha': 0.2, 'beta': 0.5, 'gamma': 0.2}\n",
      "Checking for {'alpha': 0.2, 'beta': 0.5, 'gamma': 0.3}\n",
      "Checking for {'alpha': 0.2, 'beta': 0.5, 'gamma': 0.4}\n",
      "Checking for {'alpha': 0.2, 'beta': 0.5, 'gamma': 0.5}\n",
      "Checking for {'alpha': 0.2, 'beta': 0.5, 'gamma': 0.6}\n",
      "Checking for {'alpha': 0.2, 'beta': 0.5, 'gamma': 0.7}\n",
      "Checking for {'alpha': 0.2, 'beta': 0.5, 'gamma': 0.8}\n",
      "Checking for {'alpha': 0.2, 'beta': 0.5, 'gamma': 0.9}\n",
      "Checking for {'alpha': 0.2, 'beta': 0.6, 'gamma': 0.1}\n",
      "Checking for {'alpha': 0.2, 'beta': 0.6, 'gamma': 0.2}\n",
      "Checking for {'alpha': 0.2, 'beta': 0.6, 'gamma': 0.3}\n",
      "Checking for {'alpha': 0.2, 'beta': 0.6, 'gamma': 0.4}\n",
      "Checking for {'alpha': 0.2, 'beta': 0.6, 'gamma': 0.5}\n",
      "Checking for {'alpha': 0.2, 'beta': 0.6, 'gamma': 0.6}\n",
      "Checking for {'alpha': 0.2, 'beta': 0.6, 'gamma': 0.7}\n",
      "Checking for {'alpha': 0.2, 'beta': 0.6, 'gamma': 0.8}\n",
      "Checking for {'alpha': 0.2, 'beta': 0.6, 'gamma': 0.9}\n",
      "Checking for {'alpha': 0.2, 'beta': 0.7, 'gamma': 0.1}\n",
      "Checking for {'alpha': 0.2, 'beta': 0.7, 'gamma': 0.2}\n",
      "Checking for {'alpha': 0.2, 'beta': 0.7, 'gamma': 0.3}\n",
      "Checking for {'alpha': 0.2, 'beta': 0.7, 'gamma': 0.4}\n",
      "Checking for {'alpha': 0.2, 'beta': 0.7, 'gamma': 0.5}\n",
      "Checking for {'alpha': 0.2, 'beta': 0.7, 'gamma': 0.6}\n",
      "Checking for {'alpha': 0.2, 'beta': 0.7, 'gamma': 0.7}\n",
      "Checking for {'alpha': 0.2, 'beta': 0.7, 'gamma': 0.8}\n",
      "Checking for {'alpha': 0.2, 'beta': 0.7, 'gamma': 0.9}\n",
      "Checking for {'alpha': 0.2, 'beta': 0.8, 'gamma': 0.1}\n",
      "Checking for {'alpha': 0.2, 'beta': 0.8, 'gamma': 0.2}\n",
      "Checking for {'alpha': 0.2, 'beta': 0.8, 'gamma': 0.3}\n",
      "Checking for {'alpha': 0.2, 'beta': 0.8, 'gamma': 0.4}\n"
     ]
    },
    {
     "name": "stdout",
     "output_type": "stream",
     "text": [
      "Checking for {'alpha': 0.2, 'beta': 0.8, 'gamma': 0.5}\n",
      "Checking for {'alpha': 0.2, 'beta': 0.8, 'gamma': 0.6}\n",
      "Checking for {'alpha': 0.2, 'beta': 0.8, 'gamma': 0.7}\n",
      "Checking for {'alpha': 0.2, 'beta': 0.8, 'gamma': 0.8}\n",
      "Checking for {'alpha': 0.2, 'beta': 0.8, 'gamma': 0.9}\n",
      "Checking for {'alpha': 0.2, 'beta': 0.9, 'gamma': 0.1}\n",
      "Checking for {'alpha': 0.2, 'beta': 0.9, 'gamma': 0.2}\n",
      "Checking for {'alpha': 0.2, 'beta': 0.9, 'gamma': 0.3}\n",
      "Checking for {'alpha': 0.2, 'beta': 0.9, 'gamma': 0.4}\n",
      "Checking for {'alpha': 0.2, 'beta': 0.9, 'gamma': 0.5}\n",
      "Checking for {'alpha': 0.2, 'beta': 0.9, 'gamma': 0.6}\n",
      "Checking for {'alpha': 0.2, 'beta': 0.9, 'gamma': 0.7}\n",
      "Checking for {'alpha': 0.2, 'beta': 0.9, 'gamma': 0.8}\n",
      "Checking for {'alpha': 0.2, 'beta': 0.9, 'gamma': 0.9}\n",
      "Checking for {'alpha': 0.3, 'beta': 0.1, 'gamma': 0.1}\n",
      "Checking for {'alpha': 0.3, 'beta': 0.1, 'gamma': 0.2}\n",
      "Checking for {'alpha': 0.3, 'beta': 0.1, 'gamma': 0.3}\n",
      "Checking for {'alpha': 0.3, 'beta': 0.1, 'gamma': 0.4}\n",
      "Checking for {'alpha': 0.3, 'beta': 0.1, 'gamma': 0.5}\n",
      "Checking for {'alpha': 0.3, 'beta': 0.1, 'gamma': 0.6}\n",
      "Checking for {'alpha': 0.3, 'beta': 0.1, 'gamma': 0.7}\n",
      "Checking for {'alpha': 0.3, 'beta': 0.1, 'gamma': 0.8}\n",
      "Checking for {'alpha': 0.3, 'beta': 0.1, 'gamma': 0.9}\n",
      "Checking for {'alpha': 0.3, 'beta': 0.2, 'gamma': 0.1}\n",
      "Checking for {'alpha': 0.3, 'beta': 0.2, 'gamma': 0.2}\n",
      "Checking for {'alpha': 0.3, 'beta': 0.2, 'gamma': 0.3}\n",
      "Checking for {'alpha': 0.3, 'beta': 0.2, 'gamma': 0.4}\n",
      "Checking for {'alpha': 0.3, 'beta': 0.2, 'gamma': 0.5}\n",
      "Checking for {'alpha': 0.3, 'beta': 0.2, 'gamma': 0.6}\n",
      "Checking for {'alpha': 0.3, 'beta': 0.2, 'gamma': 0.7}\n",
      "Checking for {'alpha': 0.3, 'beta': 0.2, 'gamma': 0.8}\n",
      "Checking for {'alpha': 0.3, 'beta': 0.2, 'gamma': 0.9}\n",
      "Checking for {'alpha': 0.3, 'beta': 0.3, 'gamma': 0.1}\n",
      "Checking for {'alpha': 0.3, 'beta': 0.3, 'gamma': 0.2}\n",
      "Checking for {'alpha': 0.3, 'beta': 0.3, 'gamma': 0.3}\n",
      "Checking for {'alpha': 0.3, 'beta': 0.3, 'gamma': 0.4}\n",
      "Checking for {'alpha': 0.3, 'beta': 0.3, 'gamma': 0.5}\n",
      "Checking for {'alpha': 0.3, 'beta': 0.3, 'gamma': 0.6}\n",
      "Checking for {'alpha': 0.3, 'beta': 0.3, 'gamma': 0.7}\n",
      "Checking for {'alpha': 0.3, 'beta': 0.3, 'gamma': 0.8}\n",
      "Checking for {'alpha': 0.3, 'beta': 0.3, 'gamma': 0.9}\n",
      "Checking for {'alpha': 0.3, 'beta': 0.4, 'gamma': 0.1}\n",
      "Checking for {'alpha': 0.3, 'beta': 0.4, 'gamma': 0.2}\n",
      "Checking for {'alpha': 0.3, 'beta': 0.4, 'gamma': 0.3}\n",
      "Checking for {'alpha': 0.3, 'beta': 0.4, 'gamma': 0.4}\n",
      "Checking for {'alpha': 0.3, 'beta': 0.4, 'gamma': 0.5}\n",
      "Checking for {'alpha': 0.3, 'beta': 0.4, 'gamma': 0.6}\n",
      "Checking for {'alpha': 0.3, 'beta': 0.4, 'gamma': 0.7}\n",
      "Checking for {'alpha': 0.3, 'beta': 0.4, 'gamma': 0.8}\n",
      "Checking for {'alpha': 0.3, 'beta': 0.4, 'gamma': 0.9}\n",
      "Checking for {'alpha': 0.3, 'beta': 0.5, 'gamma': 0.1}\n",
      "Checking for {'alpha': 0.3, 'beta': 0.5, 'gamma': 0.2}\n",
      "Checking for {'alpha': 0.3, 'beta': 0.5, 'gamma': 0.3}\n",
      "Checking for {'alpha': 0.3, 'beta': 0.5, 'gamma': 0.4}\n",
      "Checking for {'alpha': 0.3, 'beta': 0.5, 'gamma': 0.5}\n",
      "Checking for {'alpha': 0.3, 'beta': 0.5, 'gamma': 0.6}\n",
      "Checking for {'alpha': 0.3, 'beta': 0.5, 'gamma': 0.7}\n",
      "Checking for {'alpha': 0.3, 'beta': 0.5, 'gamma': 0.8}\n",
      "Checking for {'alpha': 0.3, 'beta': 0.5, 'gamma': 0.9}\n",
      "Checking for {'alpha': 0.3, 'beta': 0.6, 'gamma': 0.1}\n",
      "Checking for {'alpha': 0.3, 'beta': 0.6, 'gamma': 0.2}\n",
      "Checking for {'alpha': 0.3, 'beta': 0.6, 'gamma': 0.3}\n",
      "Checking for {'alpha': 0.3, 'beta': 0.6, 'gamma': 0.4}\n",
      "Checking for {'alpha': 0.3, 'beta': 0.6, 'gamma': 0.5}\n",
      "Checking for {'alpha': 0.3, 'beta': 0.6, 'gamma': 0.6}\n",
      "Checking for {'alpha': 0.3, 'beta': 0.6, 'gamma': 0.7}\n",
      "Checking for {'alpha': 0.3, 'beta': 0.6, 'gamma': 0.8}\n",
      "Checking for {'alpha': 0.3, 'beta': 0.6, 'gamma': 0.9}\n",
      "Checking for {'alpha': 0.3, 'beta': 0.7, 'gamma': 0.1}\n",
      "Checking for {'alpha': 0.3, 'beta': 0.7, 'gamma': 0.2}\n",
      "Checking for {'alpha': 0.3, 'beta': 0.7, 'gamma': 0.3}\n",
      "Checking for {'alpha': 0.3, 'beta': 0.7, 'gamma': 0.4}\n",
      "Checking for {'alpha': 0.3, 'beta': 0.7, 'gamma': 0.5}\n",
      "Checking for {'alpha': 0.3, 'beta': 0.7, 'gamma': 0.6}\n",
      "Checking for {'alpha': 0.3, 'beta': 0.7, 'gamma': 0.7}\n",
      "Checking for {'alpha': 0.3, 'beta': 0.7, 'gamma': 0.8}\n",
      "Checking for {'alpha': 0.3, 'beta': 0.7, 'gamma': 0.9}\n",
      "Checking for {'alpha': 0.3, 'beta': 0.8, 'gamma': 0.1}\n",
      "Checking for {'alpha': 0.3, 'beta': 0.8, 'gamma': 0.2}\n",
      "Checking for {'alpha': 0.3, 'beta': 0.8, 'gamma': 0.3}\n",
      "Checking for {'alpha': 0.3, 'beta': 0.8, 'gamma': 0.4}\n",
      "Checking for {'alpha': 0.3, 'beta': 0.8, 'gamma': 0.5}\n",
      "Checking for {'alpha': 0.3, 'beta': 0.8, 'gamma': 0.6}\n",
      "Checking for {'alpha': 0.3, 'beta': 0.8, 'gamma': 0.7}\n",
      "Checking for {'alpha': 0.3, 'beta': 0.8, 'gamma': 0.8}\n",
      "Checking for {'alpha': 0.3, 'beta': 0.8, 'gamma': 0.9}\n",
      "Checking for {'alpha': 0.3, 'beta': 0.9, 'gamma': 0.1}\n",
      "Checking for {'alpha': 0.3, 'beta': 0.9, 'gamma': 0.2}\n",
      "Checking for {'alpha': 0.3, 'beta': 0.9, 'gamma': 0.3}\n",
      "Checking for {'alpha': 0.3, 'beta': 0.9, 'gamma': 0.4}\n",
      "Checking for {'alpha': 0.3, 'beta': 0.9, 'gamma': 0.5}\n",
      "Checking for {'alpha': 0.3, 'beta': 0.9, 'gamma': 0.6}\n",
      "Checking for {'alpha': 0.3, 'beta': 0.9, 'gamma': 0.7}\n",
      "Checking for {'alpha': 0.3, 'beta': 0.9, 'gamma': 0.8}\n",
      "Checking for {'alpha': 0.3, 'beta': 0.9, 'gamma': 0.9}\n",
      "Checking for {'alpha': 0.4, 'beta': 0.1, 'gamma': 0.1}\n",
      "Checking for {'alpha': 0.4, 'beta': 0.1, 'gamma': 0.2}\n",
      "Checking for {'alpha': 0.4, 'beta': 0.1, 'gamma': 0.3}\n",
      "Checking for {'alpha': 0.4, 'beta': 0.1, 'gamma': 0.4}\n",
      "Checking for {'alpha': 0.4, 'beta': 0.1, 'gamma': 0.5}\n",
      "Checking for {'alpha': 0.4, 'beta': 0.1, 'gamma': 0.6}\n",
      "Checking for {'alpha': 0.4, 'beta': 0.1, 'gamma': 0.7}\n",
      "Checking for {'alpha': 0.4, 'beta': 0.1, 'gamma': 0.8}\n",
      "Checking for {'alpha': 0.4, 'beta': 0.1, 'gamma': 0.9}\n",
      "Checking for {'alpha': 0.4, 'beta': 0.2, 'gamma': 0.1}\n",
      "Checking for {'alpha': 0.4, 'beta': 0.2, 'gamma': 0.2}\n",
      "Checking for {'alpha': 0.4, 'beta': 0.2, 'gamma': 0.3}\n",
      "Checking for {'alpha': 0.4, 'beta': 0.2, 'gamma': 0.4}\n",
      "Checking for {'alpha': 0.4, 'beta': 0.2, 'gamma': 0.5}\n",
      "Checking for {'alpha': 0.4, 'beta': 0.2, 'gamma': 0.6}\n",
      "Checking for {'alpha': 0.4, 'beta': 0.2, 'gamma': 0.7}\n",
      "Checking for {'alpha': 0.4, 'beta': 0.2, 'gamma': 0.8}\n",
      "Checking for {'alpha': 0.4, 'beta': 0.2, 'gamma': 0.9}\n",
      "Checking for {'alpha': 0.4, 'beta': 0.3, 'gamma': 0.1}\n",
      "Checking for {'alpha': 0.4, 'beta': 0.3, 'gamma': 0.2}\n",
      "Checking for {'alpha': 0.4, 'beta': 0.3, 'gamma': 0.3}\n",
      "Checking for {'alpha': 0.4, 'beta': 0.3, 'gamma': 0.4}\n",
      "Checking for {'alpha': 0.4, 'beta': 0.3, 'gamma': 0.5}\n",
      "Checking for {'alpha': 0.4, 'beta': 0.3, 'gamma': 0.6}\n",
      "Checking for {'alpha': 0.4, 'beta': 0.3, 'gamma': 0.7}\n",
      "Checking for {'alpha': 0.4, 'beta': 0.3, 'gamma': 0.8}\n",
      "Checking for {'alpha': 0.4, 'beta': 0.3, 'gamma': 0.9}\n",
      "Checking for {'alpha': 0.4, 'beta': 0.4, 'gamma': 0.1}\n",
      "Checking for {'alpha': 0.4, 'beta': 0.4, 'gamma': 0.2}\n",
      "Checking for {'alpha': 0.4, 'beta': 0.4, 'gamma': 0.3}\n",
      "Checking for {'alpha': 0.4, 'beta': 0.4, 'gamma': 0.4}\n",
      "Checking for {'alpha': 0.4, 'beta': 0.4, 'gamma': 0.5}\n",
      "Checking for {'alpha': 0.4, 'beta': 0.4, 'gamma': 0.6}\n",
      "Checking for {'alpha': 0.4, 'beta': 0.4, 'gamma': 0.7}\n",
      "Checking for {'alpha': 0.4, 'beta': 0.4, 'gamma': 0.8}\n",
      "Checking for {'alpha': 0.4, 'beta': 0.4, 'gamma': 0.9}\n",
      "Checking for {'alpha': 0.4, 'beta': 0.5, 'gamma': 0.1}\n",
      "Checking for {'alpha': 0.4, 'beta': 0.5, 'gamma': 0.2}\n",
      "Checking for {'alpha': 0.4, 'beta': 0.5, 'gamma': 0.3}\n",
      "Checking for {'alpha': 0.4, 'beta': 0.5, 'gamma': 0.4}\n",
      "Checking for {'alpha': 0.4, 'beta': 0.5, 'gamma': 0.5}\n",
      "Checking for {'alpha': 0.4, 'beta': 0.5, 'gamma': 0.6}\n",
      "Checking for {'alpha': 0.4, 'beta': 0.5, 'gamma': 0.7}\n",
      "Checking for {'alpha': 0.4, 'beta': 0.5, 'gamma': 0.8}\n",
      "Checking for {'alpha': 0.4, 'beta': 0.5, 'gamma': 0.9}\n",
      "Checking for {'alpha': 0.4, 'beta': 0.6, 'gamma': 0.1}\n",
      "Checking for {'alpha': 0.4, 'beta': 0.6, 'gamma': 0.2}\n",
      "Checking for {'alpha': 0.4, 'beta': 0.6, 'gamma': 0.3}\n",
      "Checking for {'alpha': 0.4, 'beta': 0.6, 'gamma': 0.4}\n",
      "Checking for {'alpha': 0.4, 'beta': 0.6, 'gamma': 0.5}\n",
      "Checking for {'alpha': 0.4, 'beta': 0.6, 'gamma': 0.6}\n",
      "Checking for {'alpha': 0.4, 'beta': 0.6, 'gamma': 0.7}\n",
      "Checking for {'alpha': 0.4, 'beta': 0.6, 'gamma': 0.8}\n",
      "Checking for {'alpha': 0.4, 'beta': 0.6, 'gamma': 0.9}\n"
     ]
    },
    {
     "ename": "ValueError",
     "evalue": "Input contains NaN, infinity or a value too large for dtype('float64').",
     "output_type": "error",
     "traceback": [
      "\u001b[1;31m---------------------------------------------------------------------------\u001b[0m",
      "\u001b[1;31mValueError\u001b[0m                                Traceback (most recent call last)",
      "\u001b[1;32m<ipython-input-216-806e0b8ed500>\u001b[0m in \u001b[0;36m<module>\u001b[1;34m\u001b[0m\n\u001b[1;32m----> 1\u001b[1;33m auto_hwm(elec, val_split_date ='7/1/2019' , alpha=alpha, beta=beta, gamma=gamma, \n\u001b[0m\u001b[0;32m      2\u001b[0m               trend='mul', seasonal='mul', periods=12, verbose=True)\n",
      "\u001b[1;32m<ipython-input-213-9140b4e27fee>\u001b[0m in \u001b[0;36mauto_hwm\u001b[1;34m(timeseries, val_split_date, alpha, beta, gamma, trend, seasonal, periods, verbose)\u001b[0m\n\u001b[0;32m     17\u001b[0m                     \u001b[0mmodel\u001b[0m\u001b[1;33m.\u001b[0m\u001b[0mfit\u001b[0m\u001b[1;33m(\u001b[0m\u001b[0msmoothing_level\u001b[0m\u001b[1;33m=\u001b[0m\u001b[0ma\u001b[0m\u001b[1;33m,\u001b[0m \u001b[0msmoothing_slope\u001b[0m\u001b[1;33m=\u001b[0m\u001b[0mb\u001b[0m\u001b[1;33m,\u001b[0m \u001b[0msmoothing_seasonal\u001b[0m\u001b[1;33m=\u001b[0m\u001b[0mg\u001b[0m\u001b[1;33m)\u001b[0m\u001b[1;33m\u001b[0m\u001b[1;33m\u001b[0m\u001b[0m\n\u001b[0;32m     18\u001b[0m                     \u001b[0mf_cast\u001b[0m \u001b[1;33m=\u001b[0m \u001b[0mmodel\u001b[0m\u001b[1;33m.\u001b[0m\u001b[0mpredict\u001b[0m\u001b[1;33m(\u001b[0m\u001b[0mmodel\u001b[0m\u001b[1;33m.\u001b[0m\u001b[0mparams\u001b[0m\u001b[1;33m,\u001b[0m \u001b[0mstart\u001b[0m\u001b[1;33m=\u001b[0m\u001b[0mactual\u001b[0m\u001b[1;33m.\u001b[0m\u001b[0mindex\u001b[0m\u001b[1;33m[\u001b[0m\u001b[1;36m0\u001b[0m\u001b[1;33m]\u001b[0m\u001b[1;33m)\u001b[0m\u001b[1;33m\u001b[0m\u001b[1;33m\u001b[0m\u001b[0m\n\u001b[1;32m---> 19\u001b[1;33m                     \u001b[0mscore\u001b[0m \u001b[1;33m=\u001b[0m \u001b[0mnp\u001b[0m\u001b[1;33m.\u001b[0m\u001b[0mwhere\u001b[0m\u001b[1;33m(\u001b[0m\u001b[0mnp\u001b[0m\u001b[1;33m.\u001b[0m\u001b[0mfloat64\u001b[0m\u001b[1;33m(\u001b[0m\u001b[0mmean_absolute_error\u001b[0m\u001b[1;33m(\u001b[0m\u001b[0mactual\u001b[0m\u001b[1;33m,\u001b[0m \u001b[0mf_cast\u001b[0m\u001b[1;33m)\u001b[0m\u001b[1;33m/\u001b[0m\u001b[0mactual\u001b[0m\u001b[1;33m)\u001b[0m\u001b[1;33m.\u001b[0m\u001b[0mmean\u001b[0m\u001b[1;33m(\u001b[0m\u001b[1;33m)\u001b[0m\u001b[1;33m>\u001b[0m\u001b[1;36m0\u001b[0m\u001b[1;33m,\u001b[0m\u001b[0mnp\u001b[0m\u001b[1;33m.\u001b[0m\u001b[0mfloat64\u001b[0m\u001b[1;33m(\u001b[0m\u001b[0mmean_absolute_error\u001b[0m\u001b[1;33m(\u001b[0m\u001b[0mactual\u001b[0m\u001b[1;33m,\u001b[0m \u001b[0mf_cast\u001b[0m\u001b[1;33m)\u001b[0m\u001b[1;33m/\u001b[0m\u001b[0mactual\u001b[0m\u001b[1;33m)\u001b[0m\u001b[1;33m.\u001b[0m\u001b[0mmean\u001b[0m\u001b[1;33m(\u001b[0m\u001b[1;33m)\u001b[0m\u001b[1;33m,\u001b[0m\u001b[1;36m0\u001b[0m\u001b[1;33m)\u001b[0m\u001b[1;33m\u001b[0m\u001b[1;33m\u001b[0m\u001b[0m\n\u001b[0m\u001b[0;32m     20\u001b[0m \u001b[1;33m\u001b[0m\u001b[0m\n\u001b[0;32m     21\u001b[0m                     \u001b[0mbest_params\u001b[0m\u001b[1;33m.\u001b[0m\u001b[0mappend\u001b[0m\u001b[1;33m(\u001b[0m\u001b[1;33m{\u001b[0m\u001b[1;34m'alpha'\u001b[0m\u001b[1;33m:\u001b[0m \u001b[0ma\u001b[0m\u001b[1;33m,\u001b[0m \u001b[1;34m'beta'\u001b[0m\u001b[1;33m:\u001b[0m \u001b[0mb\u001b[0m\u001b[1;33m,\u001b[0m \u001b[1;34m'gamma'\u001b[0m\u001b[1;33m:\u001b[0m \u001b[0mg\u001b[0m\u001b[1;33m,\u001b[0m \u001b[1;34m'mae'\u001b[0m\u001b[1;33m:\u001b[0m \u001b[0mscore\u001b[0m\u001b[1;33m}\u001b[0m\u001b[1;33m)\u001b[0m\u001b[1;33m\u001b[0m\u001b[1;33m\u001b[0m\u001b[0m\n",
      "\u001b[1;32mC:\\ProgramData\\Anaconda3\\lib\\site-packages\\sklearn\\utils\\validation.py\u001b[0m in \u001b[0;36minner_f\u001b[1;34m(*args, **kwargs)\u001b[0m\n\u001b[0;32m     61\u001b[0m             \u001b[0mextra_args\u001b[0m \u001b[1;33m=\u001b[0m \u001b[0mlen\u001b[0m\u001b[1;33m(\u001b[0m\u001b[0margs\u001b[0m\u001b[1;33m)\u001b[0m \u001b[1;33m-\u001b[0m \u001b[0mlen\u001b[0m\u001b[1;33m(\u001b[0m\u001b[0mall_args\u001b[0m\u001b[1;33m)\u001b[0m\u001b[1;33m\u001b[0m\u001b[1;33m\u001b[0m\u001b[0m\n\u001b[0;32m     62\u001b[0m             \u001b[1;32mif\u001b[0m \u001b[0mextra_args\u001b[0m \u001b[1;33m<=\u001b[0m \u001b[1;36m0\u001b[0m\u001b[1;33m:\u001b[0m\u001b[1;33m\u001b[0m\u001b[1;33m\u001b[0m\u001b[0m\n\u001b[1;32m---> 63\u001b[1;33m                 \u001b[1;32mreturn\u001b[0m \u001b[0mf\u001b[0m\u001b[1;33m(\u001b[0m\u001b[1;33m*\u001b[0m\u001b[0margs\u001b[0m\u001b[1;33m,\u001b[0m \u001b[1;33m**\u001b[0m\u001b[0mkwargs\u001b[0m\u001b[1;33m)\u001b[0m\u001b[1;33m\u001b[0m\u001b[1;33m\u001b[0m\u001b[0m\n\u001b[0m\u001b[0;32m     64\u001b[0m \u001b[1;33m\u001b[0m\u001b[0m\n\u001b[0;32m     65\u001b[0m             \u001b[1;31m# extra_args > 0\u001b[0m\u001b[1;33m\u001b[0m\u001b[1;33m\u001b[0m\u001b[1;33m\u001b[0m\u001b[0m\n",
      "\u001b[1;32mC:\\ProgramData\\Anaconda3\\lib\\site-packages\\sklearn\\metrics\\_regression.py\u001b[0m in \u001b[0;36mmean_absolute_error\u001b[1;34m(y_true, y_pred, sample_weight, multioutput)\u001b[0m\n\u001b[0;32m    180\u001b[0m     \u001b[1;36m0.85\u001b[0m\u001b[1;33m...\u001b[0m\u001b[1;33m\u001b[0m\u001b[1;33m\u001b[0m\u001b[0m\n\u001b[0;32m    181\u001b[0m     \"\"\"\n\u001b[1;32m--> 182\u001b[1;33m     y_type, y_true, y_pred, multioutput = _check_reg_targets(\n\u001b[0m\u001b[0;32m    183\u001b[0m         y_true, y_pred, multioutput)\n\u001b[0;32m    184\u001b[0m     \u001b[0mcheck_consistent_length\u001b[0m\u001b[1;33m(\u001b[0m\u001b[0my_true\u001b[0m\u001b[1;33m,\u001b[0m \u001b[0my_pred\u001b[0m\u001b[1;33m,\u001b[0m \u001b[0msample_weight\u001b[0m\u001b[1;33m)\u001b[0m\u001b[1;33m\u001b[0m\u001b[1;33m\u001b[0m\u001b[0m\n",
      "\u001b[1;32mC:\\ProgramData\\Anaconda3\\lib\\site-packages\\sklearn\\metrics\\_regression.py\u001b[0m in \u001b[0;36m_check_reg_targets\u001b[1;34m(y_true, y_pred, multioutput, dtype)\u001b[0m\n\u001b[0;32m     88\u001b[0m     \u001b[0mcheck_consistent_length\u001b[0m\u001b[1;33m(\u001b[0m\u001b[0my_true\u001b[0m\u001b[1;33m,\u001b[0m \u001b[0my_pred\u001b[0m\u001b[1;33m)\u001b[0m\u001b[1;33m\u001b[0m\u001b[1;33m\u001b[0m\u001b[0m\n\u001b[0;32m     89\u001b[0m     \u001b[0my_true\u001b[0m \u001b[1;33m=\u001b[0m \u001b[0mcheck_array\u001b[0m\u001b[1;33m(\u001b[0m\u001b[0my_true\u001b[0m\u001b[1;33m,\u001b[0m \u001b[0mensure_2d\u001b[0m\u001b[1;33m=\u001b[0m\u001b[1;32mFalse\u001b[0m\u001b[1;33m,\u001b[0m \u001b[0mdtype\u001b[0m\u001b[1;33m=\u001b[0m\u001b[0mdtype\u001b[0m\u001b[1;33m)\u001b[0m\u001b[1;33m\u001b[0m\u001b[1;33m\u001b[0m\u001b[0m\n\u001b[1;32m---> 90\u001b[1;33m     \u001b[0my_pred\u001b[0m \u001b[1;33m=\u001b[0m \u001b[0mcheck_array\u001b[0m\u001b[1;33m(\u001b[0m\u001b[0my_pred\u001b[0m\u001b[1;33m,\u001b[0m \u001b[0mensure_2d\u001b[0m\u001b[1;33m=\u001b[0m\u001b[1;32mFalse\u001b[0m\u001b[1;33m,\u001b[0m \u001b[0mdtype\u001b[0m\u001b[1;33m=\u001b[0m\u001b[0mdtype\u001b[0m\u001b[1;33m)\u001b[0m\u001b[1;33m\u001b[0m\u001b[1;33m\u001b[0m\u001b[0m\n\u001b[0m\u001b[0;32m     91\u001b[0m \u001b[1;33m\u001b[0m\u001b[0m\n\u001b[0;32m     92\u001b[0m     \u001b[1;32mif\u001b[0m \u001b[0my_true\u001b[0m\u001b[1;33m.\u001b[0m\u001b[0mndim\u001b[0m \u001b[1;33m==\u001b[0m \u001b[1;36m1\u001b[0m\u001b[1;33m:\u001b[0m\u001b[1;33m\u001b[0m\u001b[1;33m\u001b[0m\u001b[0m\n",
      "\u001b[1;32mC:\\ProgramData\\Anaconda3\\lib\\site-packages\\sklearn\\utils\\validation.py\u001b[0m in \u001b[0;36minner_f\u001b[1;34m(*args, **kwargs)\u001b[0m\n\u001b[0;32m     61\u001b[0m             \u001b[0mextra_args\u001b[0m \u001b[1;33m=\u001b[0m \u001b[0mlen\u001b[0m\u001b[1;33m(\u001b[0m\u001b[0margs\u001b[0m\u001b[1;33m)\u001b[0m \u001b[1;33m-\u001b[0m \u001b[0mlen\u001b[0m\u001b[1;33m(\u001b[0m\u001b[0mall_args\u001b[0m\u001b[1;33m)\u001b[0m\u001b[1;33m\u001b[0m\u001b[1;33m\u001b[0m\u001b[0m\n\u001b[0;32m     62\u001b[0m             \u001b[1;32mif\u001b[0m \u001b[0mextra_args\u001b[0m \u001b[1;33m<=\u001b[0m \u001b[1;36m0\u001b[0m\u001b[1;33m:\u001b[0m\u001b[1;33m\u001b[0m\u001b[1;33m\u001b[0m\u001b[0m\n\u001b[1;32m---> 63\u001b[1;33m                 \u001b[1;32mreturn\u001b[0m \u001b[0mf\u001b[0m\u001b[1;33m(\u001b[0m\u001b[1;33m*\u001b[0m\u001b[0margs\u001b[0m\u001b[1;33m,\u001b[0m \u001b[1;33m**\u001b[0m\u001b[0mkwargs\u001b[0m\u001b[1;33m)\u001b[0m\u001b[1;33m\u001b[0m\u001b[1;33m\u001b[0m\u001b[0m\n\u001b[0m\u001b[0;32m     64\u001b[0m \u001b[1;33m\u001b[0m\u001b[0m\n\u001b[0;32m     65\u001b[0m             \u001b[1;31m# extra_args > 0\u001b[0m\u001b[1;33m\u001b[0m\u001b[1;33m\u001b[0m\u001b[1;33m\u001b[0m\u001b[0m\n",
      "\u001b[1;32mC:\\ProgramData\\Anaconda3\\lib\\site-packages\\sklearn\\utils\\validation.py\u001b[0m in \u001b[0;36mcheck_array\u001b[1;34m(array, accept_sparse, accept_large_sparse, dtype, order, copy, force_all_finite, ensure_2d, allow_nd, ensure_min_samples, ensure_min_features, estimator)\u001b[0m\n\u001b[0;32m    661\u001b[0m \u001b[1;33m\u001b[0m\u001b[0m\n\u001b[0;32m    662\u001b[0m         \u001b[1;32mif\u001b[0m \u001b[0mforce_all_finite\u001b[0m\u001b[1;33m:\u001b[0m\u001b[1;33m\u001b[0m\u001b[1;33m\u001b[0m\u001b[0m\n\u001b[1;32m--> 663\u001b[1;33m             _assert_all_finite(array,\n\u001b[0m\u001b[0;32m    664\u001b[0m                                allow_nan=force_all_finite == 'allow-nan')\n\u001b[0;32m    665\u001b[0m \u001b[1;33m\u001b[0m\u001b[0m\n",
      "\u001b[1;32mC:\\ProgramData\\Anaconda3\\lib\\site-packages\\sklearn\\utils\\validation.py\u001b[0m in \u001b[0;36m_assert_all_finite\u001b[1;34m(X, allow_nan, msg_dtype)\u001b[0m\n\u001b[0;32m    101\u001b[0m                 not allow_nan and not np.isfinite(X).all()):\n\u001b[0;32m    102\u001b[0m             \u001b[0mtype_err\u001b[0m \u001b[1;33m=\u001b[0m \u001b[1;34m'infinity'\u001b[0m \u001b[1;32mif\u001b[0m \u001b[0mallow_nan\u001b[0m \u001b[1;32melse\u001b[0m \u001b[1;34m'NaN, infinity'\u001b[0m\u001b[1;33m\u001b[0m\u001b[1;33m\u001b[0m\u001b[0m\n\u001b[1;32m--> 103\u001b[1;33m             raise ValueError(\n\u001b[0m\u001b[0;32m    104\u001b[0m                     \u001b[0mmsg_err\u001b[0m\u001b[1;33m.\u001b[0m\u001b[0mformat\u001b[0m\u001b[1;33m\u001b[0m\u001b[1;33m\u001b[0m\u001b[0m\n\u001b[0;32m    105\u001b[0m                     (type_err,\n",
      "\u001b[1;31mValueError\u001b[0m: Input contains NaN, infinity or a value too large for dtype('float64')."
     ]
    }
   ],
   "source": [
    "auto_hwm(elec, val_split_date ='7/1/2019' , alpha=alpha, beta=beta, gamma=gamma, \n",
    "              trend='mul', seasonal='mul', periods=12, verbose=True)"
   ]
  },
  {
   "cell_type": "code",
   "execution_count": 217,
   "id": "4920b3a5",
   "metadata": {},
   "outputs": [],
   "source": [
    "ets_model = ExponentialSmoothing(elec, trend='mul', seasonal='mul', seasonal_periods=12).fit(smoothing_level=0.1, smoothing_slope=0.6, smoothing_seasonal=0.2)"
   ]
  },
  {
   "cell_type": "code",
   "execution_count": 218,
   "id": "6a96a006",
   "metadata": {},
   "outputs": [
    {
     "data": {
      "text/html": [
       "<table class=\"simpletable\">\n",
       "<caption>ExponentialSmoothing Model Results</caption>\n",
       "<tr>\n",
       "  <th>Dep. Variable:</th>      <td>Ele_Consume_in_TW</td>  <th>  No. Observations:  </th>        <td>561</td>      \n",
       "</tr>\n",
       "<tr>\n",
       "  <th>Model:</th>            <td>ExponentialSmoothing</td> <th>  SSE                </th>     <td>3675.183</td>    \n",
       "</tr>\n",
       "<tr>\n",
       "  <th>Optimized:</th>                <td>True</td>         <th>  AIC                </th>     <td>1086.477</td>    \n",
       "</tr>\n",
       "<tr>\n",
       "  <th>Trend:</th>               <td>Multiplicative</td>    <th>  BIC                </th>     <td>1155.752</td>    \n",
       "</tr>\n",
       "<tr>\n",
       "  <th>Seasonal:</th>            <td>Multiplicative</td>    <th>  AICC               </th>     <td>1087.739</td>    \n",
       "</tr>\n",
       "<tr>\n",
       "  <th>Seasonal Periods:</th>          <td>12</td>          <th>  Date:              </th> <td>Mon, 23 Aug 2021</td>\n",
       "</tr>\n",
       "<tr>\n",
       "  <th>Box-Cox:</th>                  <td>False</td>        <th>  Time:              </th>     <td>21:31:31</td>    \n",
       "</tr>\n",
       "<tr>\n",
       "  <th>Box-Cox Coeff.:</th>           <td>None</td>         <th>                     </th>         <td> </td>       \n",
       "</tr>\n",
       "</table>\n",
       "<table class=\"simpletable\">\n",
       "<tr>\n",
       "           <td></td>                  <th>coeff</th>                <th>code</th>               <th>optimized</th>     \n",
       "</tr>\n",
       "<tr>\n",
       "  <th>smoothing_level</th>    <td>           0.1000000</td> <td>               alpha</td> <td>               False</td>\n",
       "</tr>\n",
       "<tr>\n",
       "  <th>smoothing_trend</th>    <td>           0.6000000</td> <td>                beta</td> <td>               False</td>\n",
       "</tr>\n",
       "<tr>\n",
       "  <th>smoothing_seasonal</th> <td>           0.2000000</td> <td>               gamma</td> <td>               False</td>\n",
       "</tr>\n",
       "<tr>\n",
       "  <th>initial_level</th>      <td>           72.480798</td> <td>                 l.0</td> <td>                True</td>\n",
       "</tr>\n",
       "<tr>\n",
       "  <th>initial_trend</th>      <td>           1.0110186</td> <td>                 b.0</td> <td>                True</td>\n",
       "</tr>\n",
       "<tr>\n",
       "  <th>initial_seasons.0</th>  <td>           0.4972011</td> <td>                 s.0</td> <td>                True</td>\n",
       "</tr>\n",
       "<tr>\n",
       "  <th>initial_seasons.1</th>  <td>           0.4797394</td> <td>                 s.1</td> <td>                True</td>\n",
       "</tr>\n",
       "<tr>\n",
       "  <th>initial_seasons.2</th>  <td>           0.4523245</td> <td>                 s.2</td> <td>                True</td>\n",
       "</tr>\n",
       "<tr>\n",
       "  <th>initial_seasons.3</th>  <td>           0.4283328</td> <td>                 s.3</td> <td>                True</td>\n",
       "</tr>\n",
       "<tr>\n",
       "  <th>initial_seasons.4</th>  <td>           0.4278840</td> <td>                 s.4</td> <td>                True</td>\n",
       "</tr>\n",
       "<tr>\n",
       "  <th>initial_seasons.5</th>  <td>           0.4692774</td> <td>                 s.5</td> <td>                True</td>\n",
       "</tr>\n",
       "<tr>\n",
       "  <th>initial_seasons.6</th>  <td>           0.5097496</td> <td>                 s.6</td> <td>                True</td>\n",
       "</tr>\n",
       "<tr>\n",
       "  <th>initial_seasons.7</th>  <td>           0.5236666</td> <td>                 s.7</td> <td>                True</td>\n",
       "</tr>\n",
       "<tr>\n",
       "  <th>initial_seasons.8</th>  <td>           0.4955170</td> <td>                 s.8</td> <td>                True</td>\n",
       "</tr>\n",
       "<tr>\n",
       "  <th>initial_seasons.9</th>  <td>           0.4540332</td> <td>                 s.9</td> <td>                True</td>\n",
       "</tr>\n",
       "<tr>\n",
       "  <th>initial_seasons.10</th> <td>           0.4487481</td> <td>                s.10</td> <td>                True</td>\n",
       "</tr>\n",
       "<tr>\n",
       "  <th>initial_seasons.11</th> <td>           0.4711187</td> <td>                s.11</td> <td>                True</td>\n",
       "</tr>\n",
       "</table>"
      ],
      "text/plain": [
       "<class 'statsmodels.iolib.summary.Summary'>\n",
       "\"\"\"\n",
       "                       ExponentialSmoothing Model Results                       \n",
       "================================================================================\n",
       "Dep. Variable:        Ele_Consume_in_TW   No. Observations:                  561\n",
       "Model:             ExponentialSmoothing   SSE                           3675.183\n",
       "Optimized:                         True   AIC                           1086.477\n",
       "Trend:                   Multiplicative   BIC                           1155.752\n",
       "Seasonal:                Multiplicative   AICC                          1087.739\n",
       "Seasonal Periods:                    12   Date:                 Mon, 23 Aug 2021\n",
       "Box-Cox:                          False   Time:                         21:31:31\n",
       "Box-Cox Coeff.:                    None                                         \n",
       "=================================================================================\n",
       "                          coeff                 code              optimized      \n",
       "---------------------------------------------------------------------------------\n",
       "smoothing_level               0.1000000                alpha                False\n",
       "smoothing_trend               0.6000000                 beta                False\n",
       "smoothing_seasonal            0.2000000                gamma                False\n",
       "initial_level                 72.480798                  l.0                 True\n",
       "initial_trend                 1.0110186                  b.0                 True\n",
       "initial_seasons.0             0.4972011                  s.0                 True\n",
       "initial_seasons.1             0.4797394                  s.1                 True\n",
       "initial_seasons.2             0.4523245                  s.2                 True\n",
       "initial_seasons.3             0.4283328                  s.3                 True\n",
       "initial_seasons.4             0.4278840                  s.4                 True\n",
       "initial_seasons.5             0.4692774                  s.5                 True\n",
       "initial_seasons.6             0.5097496                  s.6                 True\n",
       "initial_seasons.7             0.5236666                  s.7                 True\n",
       "initial_seasons.8             0.4955170                  s.8                 True\n",
       "initial_seasons.9             0.4540332                  s.9                 True\n",
       "initial_seasons.10            0.4487481                 s.10                 True\n",
       "initial_seasons.11            0.4711187                 s.11                 True\n",
       "---------------------------------------------------------------------------------\n",
       "\"\"\""
      ]
     },
     "execution_count": 218,
     "metadata": {},
     "output_type": "execute_result"
    }
   ],
   "source": [
    "ets_model.summary()"
   ]
  },
  {
   "cell_type": "code",
   "execution_count": 219,
   "id": "449b3a16",
   "metadata": {},
   "outputs": [
    {
     "data": {
      "text/plain": [
       "2019-10-01     98.502551\n",
       "2019-11-01     96.689990\n",
       "2019-12-01    107.466533\n",
       "2020-01-01    114.475623\n",
       "2020-02-01    105.479011\n",
       "2020-03-01    101.625597\n",
       "2020-04-01     95.957349\n",
       "2020-05-01    103.182474\n",
       "2020-06-01    119.054074\n",
       "2020-07-01    131.718523\n",
       "2020-08-01    131.249905\n",
       "2020-09-01    118.302846\n",
       "2020-10-01    105.589372\n",
       "2020-11-01    103.646404\n",
       "2020-12-01    115.198272\n",
       "2021-01-01    122.711635\n",
       "2021-02-01    113.067756\n",
       "2021-03-01    108.937106\n",
       "2021-04-01    102.861054\n",
       "2021-05-01    110.605994\n",
       "2021-06-01    127.619485\n",
       "2021-07-01    141.195084\n",
       "2021-08-01    140.692751\n",
       "2021-09-01    126.814209\n",
       "Freq: MS, dtype: float64"
      ]
     },
     "execution_count": 219,
     "metadata": {},
     "output_type": "execute_result"
    }
   ],
   "source": [
    "ets_model.forecast(24)"
   ]
  },
  {
   "cell_type": "markdown",
   "id": "b44c4a1c",
   "metadata": {},
   "source": [
    "### Train Test Split"
   ]
  },
  {
   "cell_type": "markdown",
   "id": "888041b1",
   "metadata": {},
   "source": [
    "#### Building model on Train data"
   ]
  },
  {
   "cell_type": "code",
   "execution_count": 220,
   "id": "b16e193d",
   "metadata": {},
   "outputs": [],
   "source": [
    "train = elec[:'12/1/2018']  "
   ]
  },
  {
   "cell_type": "code",
   "execution_count": 221,
   "id": "5dc07d0b",
   "metadata": {},
   "outputs": [
    {
     "data": {
      "text/plain": [
       "Year_Month\n",
       "1973-01-01     35.9728\n",
       "1973-02-01     36.1334\n",
       "1973-03-01     35.0625\n",
       "1973-04-01     33.8416\n",
       "1973-05-01     33.5107\n",
       "                ...   \n",
       "2018-08-01    115.7108\n",
       "2018-09-01    103.4070\n",
       "2018-10-01     94.6492\n",
       "2018-11-01     91.9079\n",
       "2018-12-01    101.9883\n",
       "Name: Ele_Consume_in_TW, Length: 552, dtype: float64"
      ]
     },
     "execution_count": 221,
     "metadata": {},
     "output_type": "execute_result"
    }
   ],
   "source": [
    "train"
   ]
  },
  {
   "cell_type": "code",
   "execution_count": 222,
   "id": "7fe44129",
   "metadata": {},
   "outputs": [],
   "source": [
    "test = elec['1/1/2019':]"
   ]
  },
  {
   "cell_type": "code",
   "execution_count": 223,
   "id": "362d3298",
   "metadata": {},
   "outputs": [
    {
     "data": {
      "text/plain": [
       "Year_Month\n",
       "2019-01-01    111.8520\n",
       "2019-02-01     97.3261\n",
       "2019-03-01     93.8406\n",
       "2019-04-01     89.1873\n",
       "2019-05-01     97.5860\n",
       "2019-06-01    110.8580\n",
       "2019-07-01    122.1014\n",
       "2019-08-01    121.7765\n",
       "2019-09-01    109.7190\n",
       "Name: Ele_Consume_in_TW, dtype: float64"
      ]
     },
     "execution_count": 223,
     "metadata": {},
     "output_type": "execute_result"
    }
   ],
   "source": [
    "test"
   ]
  },
  {
   "cell_type": "code",
   "execution_count": 224,
   "id": "0735a400",
   "metadata": {},
   "outputs": [],
   "source": [
    "train_ets_model = ExponentialSmoothing(train, trend='mul', seasonal='mul', seasonal_periods=12).fit(smoothing_level=0.1, smoothing_slope=0.6, smoothing_seasonal=0.2)"
   ]
  },
  {
   "cell_type": "code",
   "execution_count": 225,
   "id": "2b5581f1",
   "metadata": {},
   "outputs": [],
   "source": [
    "f_cast = train_ets_model.forecast(12)"
   ]
  },
  {
   "cell_type": "code",
   "execution_count": 226,
   "id": "1ea9fa31",
   "metadata": {},
   "outputs": [
    {
     "data": {
      "text/plain": [
       "2019-01-01    103.918087\n",
       "2019-02-01     97.078842\n",
       "2019-03-01     93.200485\n",
       "2019-04-01     87.555415\n",
       "2019-05-01     93.432318\n",
       "2019-06-01    107.974969\n",
       "2019-07-01    119.235748\n",
       "2019-08-01    118.391808\n",
       "2019-09-01    106.188999\n",
       "2019-10-01     94.464830\n",
       "2019-11-01     92.420813\n",
       "2019-12-01    101.609104\n",
       "Freq: MS, dtype: float64"
      ]
     },
     "execution_count": 226,
     "metadata": {},
     "output_type": "execute_result"
    }
   ],
   "source": [
    "f_cast"
   ]
  },
  {
   "cell_type": "code",
   "execution_count": 227,
   "id": "87e96c41",
   "metadata": {},
   "outputs": [
    {
     "data": {
      "text/plain": [
       "Year_Month\n",
       "2019-01-01    111.8520\n",
       "2019-02-01     97.3261\n",
       "2019-03-01     93.8406\n",
       "2019-04-01     89.1873\n",
       "2019-05-01     97.5860\n",
       "2019-06-01    110.8580\n",
       "2019-07-01    122.1014\n",
       "2019-08-01    121.7765\n",
       "2019-09-01    109.7190\n",
       "Name: Ele_Consume_in_TW, dtype: float64"
      ]
     },
     "execution_count": 227,
     "metadata": {},
     "output_type": "execute_result"
    }
   ],
   "source": [
    "test.head(12)"
   ]
  },
  {
   "cell_type": "code",
   "execution_count": 228,
   "id": "ddc940e1",
   "metadata": {},
   "outputs": [
    {
     "name": "stdout",
     "output_type": "stream",
     "text": [
      "test error : 0.027844335795184787\n"
     ]
    }
   ],
   "source": [
    "print('test error :', np.mean(np.abs(test - f_cast)/test))"
   ]
  },
  {
   "cell_type": "code",
   "execution_count": 229,
   "id": "421a82eb",
   "metadata": {},
   "outputs": [],
   "source": [
    "pred = train_ets_model.fittedvalues['2018-12-01':]"
   ]
  },
  {
   "cell_type": "code",
   "execution_count": 230,
   "id": "0dbf4867",
   "metadata": {},
   "outputs": [],
   "source": [
    "actual = train['2018-12-01':]"
   ]
  },
  {
   "cell_type": "code",
   "execution_count": 231,
   "id": "78a7b421",
   "metadata": {},
   "outputs": [
    {
     "name": "stdout",
     "output_type": "stream",
     "text": [
      "train error : 0.036677057014091824\n"
     ]
    }
   ],
   "source": [
    "print('train error :',np.mean(np.abs(actual-pred)/actual))"
   ]
  },
  {
   "cell_type": "markdown",
   "id": "239dd3f2",
   "metadata": {},
   "source": [
    "#### Box-Jenkins process - helps to get approximate values of p,d,q"
   ]
  },
  {
   "cell_type": "markdown",
   "id": "9f46b4c4",
   "metadata": {},
   "source": [
    "Using above p,d,q values, we will come up with ranges to check which value is best value"
   ]
  },
  {
   "cell_type": "code",
   "execution_count": 232,
   "id": "9966929b",
   "metadata": {},
   "outputs": [],
   "source": [
    "# Model = SARIMA\n",
    "# Model input time series = elec_ln\n",
    "# (p,d,q) = (1,1,1)\n",
    "# (P,D,Q,T) = (1,1,1,12)"
   ]
  },
  {
   "cell_type": "code",
   "execution_count": 233,
   "id": "3223ce6c",
   "metadata": {},
   "outputs": [],
   "source": [
    "train = elec_ln[:'12/1/2018']"
   ]
  },
  {
   "cell_type": "code",
   "execution_count": 234,
   "id": "1b5b08c8",
   "metadata": {},
   "outputs": [],
   "source": [
    "test = elec_ln['1/1/2019':]"
   ]
  },
  {
   "cell_type": "code",
   "execution_count": 235,
   "id": "8e9f7899",
   "metadata": {},
   "outputs": [],
   "source": [
    "train_ets_model = ExponentialSmoothing(train, trend='mul', seasonal='mul', seasonal_periods=12).fit(smoothing_level=0.1, smoothing_slope=0.6, smoothing_seasonal=0.2)"
   ]
  },
  {
   "cell_type": "markdown",
   "id": "0fbcac6a",
   "metadata": {},
   "source": [
    "### SARIMA Technique\n",
    "On train dataset"
   ]
  },
  {
   "cell_type": "code",
   "execution_count": 236,
   "id": "a395d8af",
   "metadata": {},
   "outputs": [],
   "source": [
    "import statsmodels.api as sm"
   ]
  },
  {
   "cell_type": "code",
   "execution_count": 237,
   "id": "4ba965e8",
   "metadata": {},
   "outputs": [],
   "source": [
    "model = sm.tsa.statespace.SARIMAX(train, order = (1,1,1), seasonal_order= (1,0,1,12),\n",
    "                                             enforce_stationarity=False,\n",
    "                                             enforce_invertibility=False).fit()"
   ]
  },
  {
   "cell_type": "code",
   "execution_count": 238,
   "id": "6e0fcb4b",
   "metadata": {},
   "outputs": [
    {
     "data": {
      "text/html": [
       "<table class=\"simpletable\">\n",
       "<caption>SARIMAX Results</caption>\n",
       "<tr>\n",
       "  <th>Dep. Variable:</th>          <td>Ele_Consume_in_TW</td>       <th>  No. Observations:  </th>    <td>552</td>   \n",
       "</tr>\n",
       "<tr>\n",
       "  <th>Model:</th>           <td>SARIMAX(1, 1, 1)x(1, 0, 1, 12)</td> <th>  Log Likelihood     </th> <td>1319.062</td> \n",
       "</tr>\n",
       "<tr>\n",
       "  <th>Date:</th>                   <td>Mon, 23 Aug 2021</td>        <th>  AIC                </th> <td>-2628.124</td>\n",
       "</tr>\n",
       "<tr>\n",
       "  <th>Time:</th>                       <td>21:31:34</td>            <th>  BIC                </th> <td>-2606.694</td>\n",
       "</tr>\n",
       "<tr>\n",
       "  <th>Sample:</th>                    <td>01-01-1973</td>           <th>  HQIC               </th> <td>-2619.741</td>\n",
       "</tr>\n",
       "<tr>\n",
       "  <th></th>                          <td>- 12-01-2018</td>          <th>                     </th>     <td> </td>    \n",
       "</tr>\n",
       "<tr>\n",
       "  <th>Covariance Type:</th>               <td>opg</td>              <th>                     </th>     <td> </td>    \n",
       "</tr>\n",
       "</table>\n",
       "<table class=\"simpletable\">\n",
       "<tr>\n",
       "      <td></td>        <th>coef</th>     <th>std err</th>      <th>z</th>      <th>P>|z|</th>  <th>[0.025</th>    <th>0.975]</th>  \n",
       "</tr>\n",
       "<tr>\n",
       "  <th>ar.L1</th>    <td>    0.6203</td> <td>    0.054</td> <td>   11.398</td> <td> 0.000</td> <td>    0.514</td> <td>    0.727</td>\n",
       "</tr>\n",
       "<tr>\n",
       "  <th>ma.L1</th>    <td>   -0.8927</td> <td>    0.034</td> <td>  -26.322</td> <td> 0.000</td> <td>   -0.959</td> <td>   -0.826</td>\n",
       "</tr>\n",
       "<tr>\n",
       "  <th>ar.S.L12</th> <td>    1.0074</td> <td>    0.003</td> <td>  368.385</td> <td> 0.000</td> <td>    1.002</td> <td>    1.013</td>\n",
       "</tr>\n",
       "<tr>\n",
       "  <th>ma.S.L12</th> <td>   -0.8227</td> <td>    0.028</td> <td>  -29.251</td> <td> 0.000</td> <td>   -0.878</td> <td>   -0.768</td>\n",
       "</tr>\n",
       "<tr>\n",
       "  <th>sigma2</th>   <td>    0.0004</td> <td> 2.55e-05</td> <td>   16.450</td> <td> 0.000</td> <td>    0.000</td> <td>    0.000</td>\n",
       "</tr>\n",
       "</table>\n",
       "<table class=\"simpletable\">\n",
       "<tr>\n",
       "  <th>Ljung-Box (L1) (Q):</th>     <td>1.34</td> <th>  Jarque-Bera (JB):  </th> <td>1.67</td>\n",
       "</tr>\n",
       "<tr>\n",
       "  <th>Prob(Q):</th>                <td>0.25</td> <th>  Prob(JB):          </th> <td>0.43</td>\n",
       "</tr>\n",
       "<tr>\n",
       "  <th>Heteroskedasticity (H):</th> <td>1.25</td> <th>  Skew:              </th> <td>0.12</td>\n",
       "</tr>\n",
       "<tr>\n",
       "  <th>Prob(H) (two-sided):</th>    <td>0.14</td> <th>  Kurtosis:          </th> <td>3.13</td>\n",
       "</tr>\n",
       "</table><br/><br/>Warnings:<br/>[1] Covariance matrix calculated using the outer product of gradients (complex-step)."
      ],
      "text/plain": [
       "<class 'statsmodels.iolib.summary.Summary'>\n",
       "\"\"\"\n",
       "                                     SARIMAX Results                                      \n",
       "==========================================================================================\n",
       "Dep. Variable:                  Ele_Consume_in_TW   No. Observations:                  552\n",
       "Model:             SARIMAX(1, 1, 1)x(1, 0, 1, 12)   Log Likelihood                1319.062\n",
       "Date:                            Mon, 23 Aug 2021   AIC                          -2628.124\n",
       "Time:                                    21:31:34   BIC                          -2606.694\n",
       "Sample:                                01-01-1973   HQIC                         -2619.741\n",
       "                                     - 12-01-2018                                         \n",
       "Covariance Type:                              opg                                         \n",
       "==============================================================================\n",
       "                 coef    std err          z      P>|z|      [0.025      0.975]\n",
       "------------------------------------------------------------------------------\n",
       "ar.L1          0.6203      0.054     11.398      0.000       0.514       0.727\n",
       "ma.L1         -0.8927      0.034    -26.322      0.000      -0.959      -0.826\n",
       "ar.S.L12       1.0074      0.003    368.385      0.000       1.002       1.013\n",
       "ma.S.L12      -0.8227      0.028    -29.251      0.000      -0.878      -0.768\n",
       "sigma2         0.0004   2.55e-05     16.450      0.000       0.000       0.000\n",
       "===================================================================================\n",
       "Ljung-Box (L1) (Q):                   1.34   Jarque-Bera (JB):                 1.67\n",
       "Prob(Q):                              0.25   Prob(JB):                         0.43\n",
       "Heteroskedasticity (H):               1.25   Skew:                             0.12\n",
       "Prob(H) (two-sided):                  0.14   Kurtosis:                         3.13\n",
       "===================================================================================\n",
       "\n",
       "Warnings:\n",
       "[1] Covariance matrix calculated using the outer product of gradients (complex-step).\n",
       "\"\"\""
      ]
     },
     "execution_count": 238,
     "metadata": {},
     "output_type": "execute_result"
    }
   ],
   "source": [
    "model.summary()"
   ]
  },
  {
   "cell_type": "code",
   "execution_count": 239,
   "id": "75b6ed78",
   "metadata": {},
   "outputs": [
    {
     "data": {
      "text/plain": [
       "2019-01-01    106.910230\n",
       "2019-02-01     99.065515\n",
       "2019-03-01     94.379281\n",
       "2019-04-01     88.012939\n",
       "2019-05-01     93.594289\n",
       "2019-06-01    108.150523\n",
       "2019-07-01    119.437422\n",
       "2019-08-01    118.537854\n",
       "2019-09-01    105.756375\n",
       "2019-10-01     93.559608\n",
       "2019-11-01     91.401527\n",
       "2019-12-01    101.462738\n",
       "2020-01-01    106.728006\n",
       "2020-02-01     99.032035\n",
       "2020-03-01     94.426644\n",
       "2020-04-01     88.077109\n",
       "2020-05-01     93.748253\n",
       "2020-06-01    108.475133\n",
       "2020-07-01    119.905015\n",
       "2020-08-01    119.008368\n",
       "2020-09-01    106.093972\n",
       "2020-10-01     93.777344\n",
       "2020-11-01     91.600858\n",
       "2020-12-01    101.764114\n",
       "Freq: MS, Name: predicted_mean, dtype: float64"
      ]
     },
     "execution_count": 239,
     "metadata": {},
     "output_type": "execute_result"
    }
   ],
   "source": [
    "f_cast = np.exp(model.forecast(24))\n",
    "f_cast"
   ]
  },
  {
   "cell_type": "code",
   "execution_count": 240,
   "id": "44f4d4c0",
   "metadata": {},
   "outputs": [
    {
     "data": {
      "text/plain": [
       "Year_Month\n",
       "2019-01-01    111.8520\n",
       "2019-02-01     97.3261\n",
       "2019-03-01     93.8406\n",
       "2019-04-01     89.1873\n",
       "2019-05-01     97.5860\n",
       "2019-06-01    110.8580\n",
       "2019-07-01    122.1014\n",
       "2019-08-01    121.7765\n",
       "2019-09-01    109.7190\n",
       "Name: Ele_Consume_in_TW, dtype: float64"
      ]
     },
     "execution_count": 240,
     "metadata": {},
     "output_type": "execute_result"
    }
   ],
   "source": [
    "act = np.exp(test)\n",
    "act"
   ]
  },
  {
   "cell_type": "code",
   "execution_count": 241,
   "id": "fc03f2cf",
   "metadata": {},
   "outputs": [
    {
     "name": "stdout",
     "output_type": "stream",
     "text": [
      "test_error : 0.02564638279979598\n"
     ]
    }
   ],
   "source": [
    "print('test_error :',np.mean(np.abs(act-f_cast)/act))"
   ]
  },
  {
   "cell_type": "code",
   "execution_count": 242,
   "id": "ff4adcb9",
   "metadata": {},
   "outputs": [],
   "source": [
    "pred = np.exp(model.fittedvalues)['2018-12-01':]\n",
    "act = np.exp(elec_ln)['2018-12-01':]"
   ]
  },
  {
   "cell_type": "code",
   "execution_count": 243,
   "id": "b2874c41",
   "metadata": {},
   "outputs": [
    {
     "name": "stdout",
     "output_type": "stream",
     "text": [
      "train_error_last 9 months : 0.004574354678670732\n"
     ]
    }
   ],
   "source": [
    "print('train_error_last 9 months :', np.mean(np.abs(act-pred)/act))"
   ]
  },
  {
   "cell_type": "markdown",
   "id": "7095eca6",
   "metadata": {},
   "source": [
    "##### Observation :\n",
    "`From above calculations we found that the train error is too minimal. Hence model is provides higher accuracy`"
   ]
  },
  {
   "cell_type": "markdown",
   "id": "ab9a6966",
   "metadata": {},
   "source": [
    "### SARIMA Technique\n",
    "On Log transformed dataset"
   ]
  },
  {
   "cell_type": "code",
   "execution_count": 244,
   "id": "f7234093",
   "metadata": {},
   "outputs": [],
   "source": [
    "import sys\n",
    "import itertools\n",
    "import warnings\n",
    "\n",
    "def auto_arima(timeseries, regressors=None, p=range(0, 2), d=range(0, 2), q=range(0, 2),\n",
    "              P=range(0, 2), D=range(0, 1), Q=range(0, 2)):\n",
    "\n",
    "    # Generate all different combinations of p, d and q triplets\n",
    "    pdq = list(itertools.product(p, d, q))\n",
    "\n",
    "    # Generate all different combinations of seasonal p, d and q triplets\n",
    "    seasonal_pdq = [(x[0], x[1], x[2], 12) for x in list(itertools.product(P, D, Q))]\n",
    "    \n",
    "    warnings.filterwarnings(\"ignore\") # specify to ignore warning messages\n",
    "\n",
    "    best_aic = np.inf\n",
    "    best_pdq = None\n",
    "    best_seasonal_pdq = None\n",
    "    best_results = None\n",
    "    \n",
    "    for param in pdq:\n",
    "        for param_seasonal in seasonal_pdq:\n",
    "\n",
    "            try:\n",
    "                temp_model = sm.tsa.statespace.SARIMAX(endog=timeseries,\n",
    "                                                 exog=regressors,\n",
    "                                                 order = param,\n",
    "                                                 seasonal_order = param_seasonal,\n",
    "                                                 enforce_stationarity=False,\n",
    "                                                 enforce_invertibility=False)\n",
    "                temp_results = temp_model.fit()\n",
    "\n",
    "                print(\"SARIMAX{}x{}12 - AIC:{}\".format(param, param_seasonal, temp_results.aic))\n",
    "                \n",
    "                if temp_results.aic < best_aic:\n",
    "                    best_aic = temp_results.aic\n",
    "                    best_pdq = param\n",
    "                    best_seasonal_pdq = param_seasonal\n",
    "                    best_results = temp_results\n",
    "                \n",
    "            except:\n",
    "                #print(\"Unexpected error:\", sys.exc_info()[0])\n",
    "                continue\n",
    "    print(\"Best SARIMAX{}x{}12 model - AIC:{}\".format(best_pdq, best_seasonal_pdq, best_aic))\n",
    "    print(best_results.summary().tables[0])\n",
    "    print(best_results.summary().tables[1])\n",
    "    #return best_results"
   ]
  },
  {
   "cell_type": "code",
   "execution_count": 245,
   "id": "c3173b6c",
   "metadata": {},
   "outputs": [
    {
     "name": "stdout",
     "output_type": "stream",
     "text": [
      "SARIMAX(0, 0, 0)x(0, 0, 0, 12)12 - AIC:3225.9689567972073\n",
      "SARIMAX(0, 0, 0)x(0, 0, 1, 12)12 - AIC:2460.3880425650077\n",
      "SARIMAX(0, 0, 0)x(1, 0, 0, 12)12 - AIC:-2029.9478344670015\n",
      "SARIMAX(0, 0, 0)x(1, 0, 1, 12)12 - AIC:-2040.7168224081756\n",
      "SARIMAX(0, 0, 1)x(0, 0, 0, 12)12 - AIC:2459.5525874806444\n",
      "SARIMAX(0, 0, 1)x(0, 0, 1, 12)12 - AIC:1711.364834482807\n",
      "SARIMAX(0, 0, 1)x(1, 0, 0, 12)12 - AIC:-2344.8973272231733\n",
      "SARIMAX(0, 0, 1)x(1, 0, 1, 12)12 - AIC:-2372.3418665217323\n",
      "SARIMAX(0, 1, 0)x(0, 0, 0, 12)12 - AIC:-1312.094438505867\n",
      "SARIMAX(0, 1, 0)x(0, 0, 1, 12)12 - AIC:-1721.8955566458367\n",
      "SARIMAX(0, 1, 0)x(1, 0, 0, 12)12 - AIC:-2397.2813355099606\n",
      "SARIMAX(0, 1, 0)x(1, 0, 1, 12)12 - AIC:-2611.88033071744\n",
      "SARIMAX(0, 1, 1)x(0, 0, 0, 12)12 - AIC:-1555.3314697074193\n",
      "SARIMAX(0, 1, 1)x(0, 0, 1, 12)12 - AIC:-1840.2713785511578\n",
      "SARIMAX(0, 1, 1)x(1, 0, 0, 12)12 - AIC:-2408.8305636756313\n",
      "SARIMAX(0, 1, 1)x(1, 0, 1, 12)12 - AIC:-2618.4309764005875\n",
      "SARIMAX(1, 0, 0)x(0, 0, 0, 12)12 - AIC:-1313.6045375680296\n",
      "SARIMAX(1, 0, 0)x(0, 0, 1, 12)12 - AIC:-1723.5593329699996\n",
      "SARIMAX(1, 0, 0)x(1, 0, 0, 12)12 - AIC:-2460.5764808192034\n",
      "SARIMAX(1, 0, 0)x(1, 0, 1, 12)12 - AIC:-2634.1451744409296\n",
      "SARIMAX(1, 0, 1)x(0, 0, 0, 12)12 - AIC:-1556.6009734546878\n",
      "SARIMAX(1, 0, 1)x(0, 0, 1, 12)12 - AIC:-1841.4010484928067\n",
      "SARIMAX(1, 0, 1)x(1, 0, 0, 12)12 - AIC:-2458.6680733222893\n",
      "SARIMAX(1, 0, 1)x(1, 0, 1, 12)12 - AIC:-2633.614397833053\n",
      "SARIMAX(1, 1, 0)x(0, 0, 0, 12)12 - AIC:-1425.4173468341528\n",
      "SARIMAX(1, 1, 0)x(0, 0, 1, 12)12 - AIC:-1779.128073362977\n",
      "SARIMAX(1, 1, 0)x(1, 0, 0, 12)12 - AIC:-2397.06295690493\n",
      "SARIMAX(1, 1, 0)x(1, 0, 1, 12)12 - AIC:-2617.273914860045\n",
      "SARIMAX(1, 1, 1)x(0, 0, 0, 12)12 - AIC:-1559.9757855904134\n",
      "SARIMAX(1, 1, 1)x(0, 0, 1, 12)12 - AIC:-1838.29503312279\n",
      "SARIMAX(1, 1, 1)x(1, 0, 0, 12)12 - AIC:-2473.350850306333\n",
      "SARIMAX(1, 1, 1)x(1, 0, 1, 12)12 - AIC:-2666.7480327639632\n",
      "Best SARIMAX(1, 1, 1)x(1, 0, 1, 12)12 model - AIC:-2666.7480327639632\n",
      "                                     SARIMAX Results                                      \n",
      "==========================================================================================\n",
      "Dep. Variable:                  Ele_Consume_in_TW   No. Observations:                  561\n",
      "Model:             SARIMAX(1, 1, 1)x(1, 0, 1, 12)   Log Likelihood                1338.374\n",
      "Date:                            Mon, 23 Aug 2021   AIC                          -2666.748\n",
      "Time:                                    21:32:04   BIC                          -2645.235\n",
      "Sample:                                01-01-1973   HQIC                         -2658.338\n",
      "                                     - 09-01-2019                                         \n",
      "Covariance Type:                              opg                                         \n",
      "==========================================================================================\n",
      "==============================================================================\n",
      "                 coef    std err          z      P>|z|      [0.025      0.975]\n",
      "------------------------------------------------------------------------------\n",
      "ar.L1          0.6129      0.054     11.337      0.000       0.507       0.719\n",
      "ma.L1         -0.8905      0.034    -26.049      0.000      -0.958      -0.824\n",
      "ar.S.L12       1.0076      0.003    367.095      0.000       1.002       1.013\n",
      "ma.S.L12      -0.8210      0.028    -29.012      0.000      -0.876      -0.765\n",
      "sigma2         0.0004   2.55e-05     16.617      0.000       0.000       0.000\n",
      "==============================================================================\n"
     ]
    }
   ],
   "source": [
    "best_results = auto_arima(elec_ln,  p=range(0, 2), d=range(0, 2), q=range(0, 2),\n",
    "                         P=range(0, 2), D=range(0, 1), Q=range(0, 2))    "
   ]
  },
  {
   "cell_type": "markdown",
   "id": "85a714f3",
   "metadata": {},
   "source": [
    "### Accuracy Metrics"
   ]
  },
  {
   "cell_type": "code",
   "execution_count": 246,
   "id": "169066d4",
   "metadata": {},
   "outputs": [
    {
     "name": "stdout",
     "output_type": "stream",
     "text": [
      "MAPE : 0.02564638279979598\n",
      "RMSE : 3.0852363128637914\n",
      "RMSPE : 0.02835308032070406\n"
     ]
    }
   ],
   "source": [
    "print('MAPE :', np.mean(np.abs(f_cast - act)/act))\n",
    "print('RMSE :', np.sqrt(np.mean((f_cast - act)**2)))\n",
    "print('RMSPE :', np.sqrt(np.mean(np.square(((f_cast - act) / act)))))"
   ]
  },
  {
   "cell_type": "markdown",
   "id": "b44f1e10",
   "metadata": {},
   "source": [
    "### Time Series Forecasting Visualisation"
   ]
  },
  {
   "cell_type": "code",
   "execution_count": 247,
   "id": "30742782",
   "metadata": {},
   "outputs": [],
   "source": [
    "import matplotlib.pyplot as plt"
   ]
  },
  {
   "cell_type": "code",
   "execution_count": 248,
   "id": "2295abb3",
   "metadata": {},
   "outputs": [
    {
     "data": {
      "text/plain": [
       "[<matplotlib.lines.Line2D at 0x21b2b899730>]"
      ]
     },
     "execution_count": 248,
     "metadata": {},
     "output_type": "execute_result"
    },
    {
     "data": {
      "image/png": "[encoded data removed]",
      "text/plain": [
       "<Figure size 1296x432 with 1 Axes>"
      ]
     },
     "metadata": {
      "needs_background": "light"
     },
     "output_type": "display_data"
    }
   ],
   "source": [
    "plt.figure(figsize=(18,6))\n",
    "plt.plot(elec, '--', label='obs')\n",
    "plt.plot(f_cast, '-', label=f_cast)"
   ]
  },
  {
   "cell_type": "code",
   "execution_count": 249,
   "id": "7a6ff344",
   "metadata": {},
   "outputs": [
    {
     "data": {
      "image/png": "[encoded data removed]",
      "text/plain": [
       "<Figure size 1152x864 with 4 Axes>"
      ]
     },
     "metadata": {
      "needs_background": "light"
     },
     "output_type": "display_data"
    }
   ],
   "source": [
    "model.plot_diagnostics(lags=24, figsize=(16,12))\n",
    "plt.show()\n",
    "\n",
    "#Errors should follow normal distribution\n",
    "#ACF of Errors - Error series should be white noise/random walk- There is no auto correlation among errors"
   ]
  },
  {
   "cell_type": "markdown",
   "id": "377bab05",
   "metadata": {},
   "source": [
    "# --------------------------------------------------------------------------------------------------------------"
   ]
  }
 ],
 "metadata": {
  "kernelspec": {
   "display_name": "Python 3",
   "language": "python",
   "name": "python3"
  },
  "language_info": {
   "codemirror_mode": {
    "name": "ipython",
    "version": 3
   },
   "file_extension": ".py",
   "mimetype": "text/x-python",
   "name": "python",
   "nbconvert_exporter": "python",
   "pygments_lexer": "ipython3",
   "version": "3.8.8"
  }
 },
 "nbformat": 4,
 "nbformat_minor": 5
}
